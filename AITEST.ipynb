{
  "nbformat": 4,
  "nbformat_minor": 0,
  "metadata": {
    "colab": {
      "name": "AITEST.ipynb",
      "provenance": [],
      "collapsed_sections": [
        "IDUHs8eFzWWv"
      ],
      "toc_visible": true,
      "authorship_tag": "ABX9TyMsT+wKwH1kluKMN+7Z+33a",
      "include_colab_link": true
    },
    "kernelspec": {
      "name": "python3",
      "display_name": "Python 3"
    },
    "language_info": {
      "name": "python"
    }
  },
  "cells": [
    {
      "cell_type": "markdown",
      "metadata": {
        "id": "view-in-github",
        "colab_type": "text"
      },
      "source": [
        "<a href=\"https://colab.research.google.com/github/duddnd36/AI_assg/blob/main/AITEST.ipynb\" target=\"_parent\"><img src=\"https://colab.research.google.com/assets/colab-badge.svg\" alt=\"Open In Colab\"/></a>"
      ]
    },
    {
      "cell_type": "code",
      "execution_count": null,
      "metadata": {
        "colab": {
          "resources": {
            "http://localhost:8080/nbextensions/google.colab/files.js": {
              "data": "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",
              "ok": true,
              "headers": [
                [
                  "content-type",
                  "application/javascript"
                ]
              ],
              "status": 200,
              "status_text": ""
            }
          },
          "base_uri": "https://localhost:8080/",
          "height": 77
        },
        "id": "72FKMeKCdoNE",
        "outputId": "eefc16f6-e4ab-477e-b712-fd5bb300c7f6"
      },
      "outputs": [
        {
          "output_type": "display_data",
          "data": {
            "text/plain": [
              "<IPython.core.display.HTML object>"
            ],
            "text/html": [
              "\n",
              "     <input type=\"file\" id=\"files-cccb7fcf-ba5d-473f-89e3-117030afdc67\" name=\"files[]\" multiple disabled\n",
              "        style=\"border:none\" />\n",
              "     <output id=\"result-cccb7fcf-ba5d-473f-89e3-117030afdc67\">\n",
              "      Upload widget is only available when the cell has been executed in the\n",
              "      current browser session. Please rerun this cell to enable.\n",
              "      </output>\n",
              "      <script src=\"/nbextensions/google.colab/files.js\"></script> "
            ]
          },
          "metadata": {}
        },
        {
          "output_type": "stream",
          "name": "stdout",
          "text": [
            "Saving waterQuality1.csv to waterQuality1.csv\n"
          ]
        }
      ],
      "source": [
        "from google.colab import files\n",
        "myfile =files.upload()"
      ]
    },
    {
      "cell_type": "code",
      "source": [
        "import io\n",
        "import numpy as np\n",
        "import pandas as pd\n",
        "from keras.models import Sequential\n",
        "from keras.layers import Dense\n",
        "import tensorflow as tf\n",
        "from sklearn.preprocessing import LabelEncoder, StandardScaler\n",
        "from sklearn.model_selection import train_test_split\n",
        "\n",
        "from sklearn.neighbors import KNeighborsClassifier\n",
        "from sklearn.svm import SVC\n",
        "from sklearn.model_selection import GridSearchCV, train_test_split\n",
        "from sklearn.neural_network import MLPClassifier\n",
        "from sklearn.metrics import classification_report\n",
        "from sklearn.metrics import confusion_matrix"
      ],
      "metadata": {
        "id": "495pq29VzHmi"
      },
      "execution_count": null,
      "outputs": []
    },
    {
      "cell_type": "code",
      "source": [
        "# MLPClassifier 의 객체 생성\n",
        "mlp = MLPClassifier(hidden_layer_sizes=(10), activation='logistic', solver='sgd',alpha='0.01',batch_size=32,learning_rate_init=0.1,max_iter=500)\n",
        "#은닉층의 크기를 정의하는 hidden_layer_sizes\n",
        "#활성화 함수를 지정하는 activation\n",
        "#경사 하강법 알고리즘의 종류를 지정하는 매개변수 solver\n",
        "# 규제를 적용하기 위한 매개변수 alpha\n",
        "#치 크기, 학습률 초깃값, 에포크 횟수를 지정하는 매개변수 \n",
        "#batch_size(32), learning_rate_init(0.1), max_iter(500)으로 설정\n",
        "\n",
        "\n"
      ],
      "metadata": {
        "id": "Qxekf0s2cM0F"
      },
      "execution_count": null,
      "outputs": []
    },
    {
      "cell_type": "code",
      "source": [
        "#SVM 데이터셋\n",
        "#데이터 셋 준비하기\n",
        "data = pd.read_csv(io.BytesIO(myfile['waterQuality1.csv']))  # 데이터에서 4가지 성분 전체 삭제\n",
        "data = data.drop('ammonia', axis = 1)\n",
        "data = data.drop('flouride', axis = 1)\n",
        "data = data.drop('selenium', axis = 1)\n",
        "data = data.drop('uranium', axis = 1)\n",
        "\n",
        "data = data[data['is_safe'] != '#NUM!']\n",
        "data['is_safe'] = data['is_safe'].astype(int) #num이 아닌 것들 전부 int로 바꿈\n",
        "\n",
        "columns = dict(zip(list(range(data.shape[1])), data.columns.values.tolist())) # dictionary\n",
        "is_safe = data['is_safe']\n",
        "data = pd.DataFrame(StandardScaler().fit_transform(data)).rename(columns = columns) \n",
        "#pandas는 dataframe을 주로 다루기 위한 라이브러리이며\n",
        "data['is_safe'] = is_safe\n",
        "data = data.dropna()\n",
        "\n",
        "data.head(6)"
      ],
      "metadata": {
        "colab": {
          "base_uri": "https://localhost:8080/",
          "height": 301
        },
        "id": "he4uAdOP-JZF",
        "outputId": "87f7d5d0-3f44-4724-b7a5-1740afce96a1"
      },
      "execution_count": null,
      "outputs": [
        {
          "output_type": "execute_result",
          "data": {
            "text/plain": [
              "   aluminium   arsenic    barium   cadmium  chloramine  chromium    copper  \\\n",
              "0   0.777403 -0.480875  1.054205 -0.993241   -0.711941  2.152993 -0.973050   \n",
              "1   1.306945 -0.599632  1.432447 -1.131948    1.208552  1.598765 -0.223303   \n",
              "2   0.271572 -0.480875 -0.812340 -0.965499    0.803417  1.044536 -1.202564   \n",
              "3   0.548198 -0.480875  1.144654 -1.159690    1.968179 -0.802892  1.306793   \n",
              "4   0.200439 -0.520460 -1.124801 -1.020982    0.191820  1.635713 -0.361012   \n",
              "5   0.216246 -0.520460  1.078873 -1.104207   -0.536643  0.675051  0.878366   \n",
              "\n",
              "   bacteria   viruses      lead  nitrates  nitrites   mercury  perchlorate  \\\n",
              "0 -0.363345 -0.869387 -0.781070  1.129767 -0.348629  0.609178     1.203362   \n",
              "1  1.002460  0.849782  0.009785 -1.409197  1.046960 -0.739005     0.892977   \n",
              "2 -0.818614 -0.861452 -0.368450  0.783298 -0.383518  0.272132     1.911763   \n",
              "3  1.184567  1.008475 -1.434385 -1.517469 -0.069511 -0.401960    -0.415275   \n",
              "4 -0.575804 -0.866742  0.302058 -0.555658 -0.383518 -0.739005     0.024578   \n",
              "5  1.063162  0.902680  0.611523 -0.012496  0.977180  0.272132     0.605207   \n",
              "\n",
              "     radium    silver  is_safe  \n",
              "0  1.661842  1.338736      1.0  \n",
              "1  0.124811  0.851134      1.0  \n",
              "2  1.786699  2.035310      0.0  \n",
              "3 -0.516695  2.104968      1.0  \n",
              "4 -0.219622 -0.611672      1.0  \n",
              "5  1.076306  0.293875      1.0  "
            ],
            "text/html": [
              "\n",
              "  <div id=\"df-62fc6374-0e4f-4e3d-903d-78eb865e134c\">\n",
              "    <div class=\"colab-df-container\">\n",
              "      <div>\n",
              "<style scoped>\n",
              "    .dataframe tbody tr th:only-of-type {\n",
              "        vertical-align: middle;\n",
              "    }\n",
              "\n",
              "    .dataframe tbody tr th {\n",
              "        vertical-align: top;\n",
              "    }\n",
              "\n",
              "    .dataframe thead th {\n",
              "        text-align: right;\n",
              "    }\n",
              "</style>\n",
              "<table border=\"1\" class=\"dataframe\">\n",
              "  <thead>\n",
              "    <tr style=\"text-align: right;\">\n",
              "      <th></th>\n",
              "      <th>aluminium</th>\n",
              "      <th>arsenic</th>\n",
              "      <th>barium</th>\n",
              "      <th>cadmium</th>\n",
              "      <th>chloramine</th>\n",
              "      <th>chromium</th>\n",
              "      <th>copper</th>\n",
              "      <th>bacteria</th>\n",
              "      <th>viruses</th>\n",
              "      <th>lead</th>\n",
              "      <th>nitrates</th>\n",
              "      <th>nitrites</th>\n",
              "      <th>mercury</th>\n",
              "      <th>perchlorate</th>\n",
              "      <th>radium</th>\n",
              "      <th>silver</th>\n",
              "      <th>is_safe</th>\n",
              "    </tr>\n",
              "  </thead>\n",
              "  <tbody>\n",
              "    <tr>\n",
              "      <th>0</th>\n",
              "      <td>0.777403</td>\n",
              "      <td>-0.480875</td>\n",
              "      <td>1.054205</td>\n",
              "      <td>-0.993241</td>\n",
              "      <td>-0.711941</td>\n",
              "      <td>2.152993</td>\n",
              "      <td>-0.973050</td>\n",
              "      <td>-0.363345</td>\n",
              "      <td>-0.869387</td>\n",
              "      <td>-0.781070</td>\n",
              "      <td>1.129767</td>\n",
              "      <td>-0.348629</td>\n",
              "      <td>0.609178</td>\n",
              "      <td>1.203362</td>\n",
              "      <td>1.661842</td>\n",
              "      <td>1.338736</td>\n",
              "      <td>1.0</td>\n",
              "    </tr>\n",
              "    <tr>\n",
              "      <th>1</th>\n",
              "      <td>1.306945</td>\n",
              "      <td>-0.599632</td>\n",
              "      <td>1.432447</td>\n",
              "      <td>-1.131948</td>\n",
              "      <td>1.208552</td>\n",
              "      <td>1.598765</td>\n",
              "      <td>-0.223303</td>\n",
              "      <td>1.002460</td>\n",
              "      <td>0.849782</td>\n",
              "      <td>0.009785</td>\n",
              "      <td>-1.409197</td>\n",
              "      <td>1.046960</td>\n",
              "      <td>-0.739005</td>\n",
              "      <td>0.892977</td>\n",
              "      <td>0.124811</td>\n",
              "      <td>0.851134</td>\n",
              "      <td>1.0</td>\n",
              "    </tr>\n",
              "    <tr>\n",
              "      <th>2</th>\n",
              "      <td>0.271572</td>\n",
              "      <td>-0.480875</td>\n",
              "      <td>-0.812340</td>\n",
              "      <td>-0.965499</td>\n",
              "      <td>0.803417</td>\n",
              "      <td>1.044536</td>\n",
              "      <td>-1.202564</td>\n",
              "      <td>-0.818614</td>\n",
              "      <td>-0.861452</td>\n",
              "      <td>-0.368450</td>\n",
              "      <td>0.783298</td>\n",
              "      <td>-0.383518</td>\n",
              "      <td>0.272132</td>\n",
              "      <td>1.911763</td>\n",
              "      <td>1.786699</td>\n",
              "      <td>2.035310</td>\n",
              "      <td>0.0</td>\n",
              "    </tr>\n",
              "    <tr>\n",
              "      <th>3</th>\n",
              "      <td>0.548198</td>\n",
              "      <td>-0.480875</td>\n",
              "      <td>1.144654</td>\n",
              "      <td>-1.159690</td>\n",
              "      <td>1.968179</td>\n",
              "      <td>-0.802892</td>\n",
              "      <td>1.306793</td>\n",
              "      <td>1.184567</td>\n",
              "      <td>1.008475</td>\n",
              "      <td>-1.434385</td>\n",
              "      <td>-1.517469</td>\n",
              "      <td>-0.069511</td>\n",
              "      <td>-0.401960</td>\n",
              "      <td>-0.415275</td>\n",
              "      <td>-0.516695</td>\n",
              "      <td>2.104968</td>\n",
              "      <td>1.0</td>\n",
              "    </tr>\n",
              "    <tr>\n",
              "      <th>4</th>\n",
              "      <td>0.200439</td>\n",
              "      <td>-0.520460</td>\n",
              "      <td>-1.124801</td>\n",
              "      <td>-1.020982</td>\n",
              "      <td>0.191820</td>\n",
              "      <td>1.635713</td>\n",
              "      <td>-0.361012</td>\n",
              "      <td>-0.575804</td>\n",
              "      <td>-0.866742</td>\n",
              "      <td>0.302058</td>\n",
              "      <td>-0.555658</td>\n",
              "      <td>-0.383518</td>\n",
              "      <td>-0.739005</td>\n",
              "      <td>0.024578</td>\n",
              "      <td>-0.219622</td>\n",
              "      <td>-0.611672</td>\n",
              "      <td>1.0</td>\n",
              "    </tr>\n",
              "    <tr>\n",
              "      <th>5</th>\n",
              "      <td>0.216246</td>\n",
              "      <td>-0.520460</td>\n",
              "      <td>1.078873</td>\n",
              "      <td>-1.104207</td>\n",
              "      <td>-0.536643</td>\n",
              "      <td>0.675051</td>\n",
              "      <td>0.878366</td>\n",
              "      <td>1.063162</td>\n",
              "      <td>0.902680</td>\n",
              "      <td>0.611523</td>\n",
              "      <td>-0.012496</td>\n",
              "      <td>0.977180</td>\n",
              "      <td>0.272132</td>\n",
              "      <td>0.605207</td>\n",
              "      <td>1.076306</td>\n",
              "      <td>0.293875</td>\n",
              "      <td>1.0</td>\n",
              "    </tr>\n",
              "  </tbody>\n",
              "</table>\n",
              "</div>\n",
              "      <button class=\"colab-df-convert\" onclick=\"convertToInteractive('df-62fc6374-0e4f-4e3d-903d-78eb865e134c')\"\n",
              "              title=\"Convert this dataframe to an interactive table.\"\n",
              "              style=\"display:none;\">\n",
              "        \n",
              "  <svg xmlns=\"http://www.w3.org/2000/svg\" height=\"24px\"viewBox=\"0 0 24 24\"\n",
              "       width=\"24px\">\n",
              "    <path d=\"M0 0h24v24H0V0z\" fill=\"none\"/>\n",
              "    <path d=\"M18.56 5.44l.94 2.06.94-2.06 2.06-.94-2.06-.94-.94-2.06-.94 2.06-2.06.94zm-11 1L8.5 8.5l.94-2.06 2.06-.94-2.06-.94L8.5 2.5l-.94 2.06-2.06.94zm10 10l.94 2.06.94-2.06 2.06-.94-2.06-.94-.94-2.06-.94 2.06-2.06.94z\"/><path d=\"M17.41 7.96l-1.37-1.37c-.4-.4-.92-.59-1.43-.59-.52 0-1.04.2-1.43.59L10.3 9.45l-7.72 7.72c-.78.78-.78 2.05 0 2.83L4 21.41c.39.39.9.59 1.41.59.51 0 1.02-.2 1.41-.59l7.78-7.78 2.81-2.81c.8-.78.8-2.07 0-2.86zM5.41 20L4 18.59l7.72-7.72 1.47 1.35L5.41 20z\"/>\n",
              "  </svg>\n",
              "      </button>\n",
              "      \n",
              "  <style>\n",
              "    .colab-df-container {\n",
              "      display:flex;\n",
              "      flex-wrap:wrap;\n",
              "      gap: 12px;\n",
              "    }\n",
              "\n",
              "    .colab-df-convert {\n",
              "      background-color: #E8F0FE;\n",
              "      border: none;\n",
              "      border-radius: 50%;\n",
              "      cursor: pointer;\n",
              "      display: none;\n",
              "      fill: #1967D2;\n",
              "      height: 32px;\n",
              "      padding: 0 0 0 0;\n",
              "      width: 32px;\n",
              "    }\n",
              "\n",
              "    .colab-df-convert:hover {\n",
              "      background-color: #E2EBFA;\n",
              "      box-shadow: 0px 1px 2px rgba(60, 64, 67, 0.3), 0px 1px 3px 1px rgba(60, 64, 67, 0.15);\n",
              "      fill: #174EA6;\n",
              "    }\n",
              "\n",
              "    [theme=dark] .colab-df-convert {\n",
              "      background-color: #3B4455;\n",
              "      fill: #D2E3FC;\n",
              "    }\n",
              "\n",
              "    [theme=dark] .colab-df-convert:hover {\n",
              "      background-color: #434B5C;\n",
              "      box-shadow: 0px 1px 3px 1px rgba(0, 0, 0, 0.15);\n",
              "      filter: drop-shadow(0px 1px 2px rgba(0, 0, 0, 0.3));\n",
              "      fill: #FFFFFF;\n",
              "    }\n",
              "  </style>\n",
              "\n",
              "      <script>\n",
              "        const buttonEl =\n",
              "          document.querySelector('#df-62fc6374-0e4f-4e3d-903d-78eb865e134c button.colab-df-convert');\n",
              "        buttonEl.style.display =\n",
              "          google.colab.kernel.accessAllowed ? 'block' : 'none';\n",
              "\n",
              "        async function convertToInteractive(key) {\n",
              "          const element = document.querySelector('#df-62fc6374-0e4f-4e3d-903d-78eb865e134c');\n",
              "          const dataTable =\n",
              "            await google.colab.kernel.invokeFunction('convertToInteractive',\n",
              "                                                     [key], {});\n",
              "          if (!dataTable) return;\n",
              "\n",
              "          const docLinkHtml = 'Like what you see? Visit the ' +\n",
              "            '<a target=\"_blank\" href=https://colab.research.google.com/notebooks/data_table.ipynb>data table notebook</a>'\n",
              "            + ' to learn more about interactive tables.';\n",
              "          element.innerHTML = '';\n",
              "          dataTable['output_type'] = 'display_data';\n",
              "          await google.colab.output.renderOutput(dataTable, element);\n",
              "          const docLink = document.createElement('div');\n",
              "          docLink.innerHTML = docLinkHtml;\n",
              "          element.appendChild(docLink);\n",
              "        }\n",
              "      </script>\n",
              "    </div>\n",
              "  </div>\n",
              "  "
            ]
          },
          "metadata": {},
          "execution_count": 3
        }
      ]
    },
    {
      "cell_type": "markdown",
      "source": [
        "# 새 섹션 mlp"
      ],
      "metadata": {
        "id": "ijVicXawxtDb"
      }
    },
    {
      "cell_type": "code",
      "source": [
        "X = data.drop('is_safe', axis = 1)\n",
        "Y = data['is_safe']\n",
        "\n",
        "X_train, X_test, Y_train, Y_test = train_test_split(X, Y, test_size = 0.33, random_state = 13)"
      ],
      "metadata": {
        "id": "sljz2_KabIv0"
      },
      "execution_count": null,
      "outputs": []
    },
    {
      "cell_type": "code",
      "source": [
        "print(x_data)\n",
        "print(y_data)"
      ],
      "metadata": {
        "id": "c6Tyr4xGmTgu",
        "colab": {
          "base_uri": "https://localhost:8080/",
          "height": 137
        },
        "outputId": "320a4197-ecb5-4da3-e0e5-9b39f58a650b"
      },
      "execution_count": null,
      "outputs": [
        {
          "output_type": "error",
          "ename": "IndentationError",
          "evalue": "ignored",
          "traceback": [
            "\u001b[0;36m  File \u001b[0;32m\"<ipython-input-64-d89ae13760aa>\"\u001b[0;36m, line \u001b[0;32m2\u001b[0m\n\u001b[0;31m    model = Sequential()\u001b[0m\n\u001b[0m    ^\u001b[0m\n\u001b[0;31mIndentationError\u001b[0m\u001b[0;31m:\u001b[0m unexpected indent\n"
          ]
        }
      ]
    },
    {
      "cell_type": "code",
      "source": [
        "\n",
        "#모델 구성하기\n",
        "tf.model = tf.keras.Sequential()\n",
        "tf.model.add(tf.keras.layers.Dense(units = 10, input_dim = x_data.shape[1], activation = 'relu'))\n",
        "tf.model.add(tf.keras.layers.Dense(units = 10, activation = 'relu'))\n",
        "tf.model.add(tf.keras.layers.Dense(units = 1, activation = 'sigmoid'))\n",
        "#모델 학습과정 설정하기\n",
        "tf.model.compile(loss = 'binary_crossentropy', optimizer = tf.keras.optimizers.Adam(lr = 0.01), metrics = ['accuracy'])\n",
        "tf.model.summary()"
      ],
      "metadata": {
        "id": "YweUJ2zVmTjn",
        "colab": {
          "base_uri": "https://localhost:8080/"
        },
        "outputId": "f27a2e61-ac7b-44b9-ae07-cb5ad0121a4f"
      },
      "execution_count": null,
      "outputs": [
        {
          "output_type": "stream",
          "name": "stdout",
          "text": [
            "Model: \"sequential\"\n",
            "_________________________________________________________________\n",
            " Layer (type)                Output Shape              Param #   \n",
            "=================================================================\n",
            " dense (Dense)               (None, 10)                210       \n",
            "                                                                 \n",
            " dense_1 (Dense)             (None, 10)                110       \n",
            "                                                                 \n",
            " dense_2 (Dense)             (None, 10)                110       \n",
            "                                                                 \n",
            " dense_3 (Dense)             (None, 1)                 11        \n",
            "                                                                 \n",
            "=================================================================\n",
            "Total params: 441\n",
            "Trainable params: 441\n",
            "Non-trainable params: 0\n",
            "_________________________________________________________________\n"
          ]
        },
        {
          "output_type": "stream",
          "name": "stderr",
          "text": [
            "/usr/local/lib/python3.7/dist-packages/keras/optimizer_v2/adam.py:105: UserWarning: The `lr` argument is deprecated, use `learning_rate` instead.\n",
            "  super(Adam, self).__init__(name, **kwargs)\n"
          ]
        }
      ]
    },
    {
      "cell_type": "code",
      "source": [
        "#모델 학습시키기\n",
        "history = tf.model.fit(x_data, y_data, epochs = 200, batch_size=64)\n",
        "print(\"Accuracy : \", history.history['accuracy'][-1])"
      ],
      "metadata": {
        "id": "VVzU3A7JmTmF",
        "colab": {
          "base_uri": "https://localhost:8080/"
        },
        "outputId": "10cd9331-003e-4d33-cf24-300039da91ce"
      },
      "execution_count": null,
      "outputs": [
        {
          "output_type": "stream",
          "name": "stdout",
          "text": [
            "Epoch 1/200\n",
            "125/125 [==============================] - 1s 2ms/step - loss: 0.3201 - accuracy: 0.8825\n",
            "Epoch 2/200\n",
            "125/125 [==============================] - 0s 3ms/step - loss: 0.2646 - accuracy: 0.8955\n",
            "Epoch 3/200\n",
            "125/125 [==============================] - 0s 2ms/step - loss: 0.2381 - accuracy: 0.9067\n",
            "Epoch 4/200\n",
            "125/125 [==============================] - 0s 2ms/step - loss: 0.2288 - accuracy: 0.9091\n",
            "Epoch 5/200\n",
            "125/125 [==============================] - 0s 2ms/step - loss: 0.2195 - accuracy: 0.9159\n",
            "Epoch 6/200\n",
            "125/125 [==============================] - 0s 2ms/step - loss: 0.2109 - accuracy: 0.9226\n",
            "Epoch 7/200\n",
            "125/125 [==============================] - 0s 2ms/step - loss: 0.1945 - accuracy: 0.9296\n",
            "Epoch 8/200\n",
            "125/125 [==============================] - 0s 2ms/step - loss: 0.1907 - accuracy: 0.9323\n",
            "Epoch 9/200\n",
            "125/125 [==============================] - 0s 2ms/step - loss: 0.1776 - accuracy: 0.9382\n",
            "Epoch 10/200\n",
            "125/125 [==============================] - 0s 2ms/step - loss: 0.1853 - accuracy: 0.9329\n",
            "Epoch 11/200\n",
            "125/125 [==============================] - 0s 2ms/step - loss: 0.1714 - accuracy: 0.9393\n",
            "Epoch 12/200\n",
            "125/125 [==============================] - 0s 2ms/step - loss: 0.1634 - accuracy: 0.9438\n",
            "Epoch 13/200\n",
            "125/125 [==============================] - 0s 2ms/step - loss: 0.1640 - accuracy: 0.9403\n",
            "Epoch 14/200\n",
            "125/125 [==============================] - 0s 2ms/step - loss: 0.1603 - accuracy: 0.9426\n",
            "Epoch 15/200\n",
            "125/125 [==============================] - 0s 2ms/step - loss: 0.1671 - accuracy: 0.9412\n",
            "Epoch 16/200\n",
            "125/125 [==============================] - 0s 2ms/step - loss: 0.1585 - accuracy: 0.9437\n",
            "Epoch 17/200\n",
            "125/125 [==============================] - 0s 2ms/step - loss: 0.1605 - accuracy: 0.9440\n",
            "Epoch 18/200\n",
            "125/125 [==============================] - 0s 2ms/step - loss: 0.1497 - accuracy: 0.9467\n",
            "Epoch 19/200\n",
            "125/125 [==============================] - 0s 2ms/step - loss: 0.1548 - accuracy: 0.9436\n",
            "Epoch 20/200\n",
            "125/125 [==============================] - 0s 2ms/step - loss: 0.1544 - accuracy: 0.9450\n",
            "Epoch 21/200\n",
            "125/125 [==============================] - 0s 2ms/step - loss: 0.1503 - accuracy: 0.9452\n",
            "Epoch 22/200\n",
            "125/125 [==============================] - 0s 2ms/step - loss: 0.1599 - accuracy: 0.9432\n",
            "Epoch 23/200\n",
            "125/125 [==============================] - 0s 2ms/step - loss: 0.1528 - accuracy: 0.9451\n",
            "Epoch 24/200\n",
            "125/125 [==============================] - 0s 2ms/step - loss: 0.1509 - accuracy: 0.9445\n",
            "Epoch 25/200\n",
            "125/125 [==============================] - 0s 2ms/step - loss: 0.1436 - accuracy: 0.9473\n",
            "Epoch 26/200\n",
            "125/125 [==============================] - 0s 2ms/step - loss: 0.1431 - accuracy: 0.9477\n",
            "Epoch 27/200\n",
            "125/125 [==============================] - 0s 2ms/step - loss: 0.1426 - accuracy: 0.9472\n",
            "Epoch 28/200\n",
            "125/125 [==============================] - 0s 2ms/step - loss: 0.1383 - accuracy: 0.9478\n",
            "Epoch 29/200\n",
            "125/125 [==============================] - 0s 2ms/step - loss: 0.1460 - accuracy: 0.9448\n",
            "Epoch 30/200\n",
            "125/125 [==============================] - 0s 2ms/step - loss: 0.1346 - accuracy: 0.9495\n",
            "Epoch 31/200\n",
            "125/125 [==============================] - 0s 2ms/step - loss: 0.1412 - accuracy: 0.9462\n",
            "Epoch 32/200\n",
            "125/125 [==============================] - 0s 2ms/step - loss: 0.1383 - accuracy: 0.9471\n",
            "Epoch 33/200\n",
            "125/125 [==============================] - 0s 2ms/step - loss: 0.1361 - accuracy: 0.9482\n",
            "Epoch 34/200\n",
            "125/125 [==============================] - 0s 2ms/step - loss: 0.1404 - accuracy: 0.9477\n",
            "Epoch 35/200\n",
            "125/125 [==============================] - 0s 2ms/step - loss: 0.1314 - accuracy: 0.9510\n",
            "Epoch 36/200\n",
            "125/125 [==============================] - 0s 2ms/step - loss: 0.1307 - accuracy: 0.9496\n",
            "Epoch 37/200\n",
            "125/125 [==============================] - 0s 2ms/step - loss: 0.1366 - accuracy: 0.9461\n",
            "Epoch 38/200\n",
            "125/125 [==============================] - 0s 2ms/step - loss: 0.1302 - accuracy: 0.9496\n",
            "Epoch 39/200\n",
            "125/125 [==============================] - 0s 2ms/step - loss: 0.1364 - accuracy: 0.9481\n",
            "Epoch 40/200\n",
            "125/125 [==============================] - 0s 2ms/step - loss: 0.1328 - accuracy: 0.9491\n",
            "Epoch 41/200\n",
            "125/125 [==============================] - 0s 2ms/step - loss: 0.1304 - accuracy: 0.9496\n",
            "Epoch 42/200\n",
            "125/125 [==============================] - 0s 2ms/step - loss: 0.1320 - accuracy: 0.9496\n",
            "Epoch 43/200\n",
            "125/125 [==============================] - 0s 2ms/step - loss: 0.1262 - accuracy: 0.9511\n",
            "Epoch 44/200\n",
            "125/125 [==============================] - 0s 2ms/step - loss: 0.1290 - accuracy: 0.9510\n",
            "Epoch 45/200\n",
            "125/125 [==============================] - 0s 2ms/step - loss: 0.1209 - accuracy: 0.9532\n",
            "Epoch 46/200\n",
            "125/125 [==============================] - 0s 2ms/step - loss: 0.1275 - accuracy: 0.9500\n",
            "Epoch 47/200\n",
            "125/125 [==============================] - 0s 2ms/step - loss: 0.1191 - accuracy: 0.9522\n",
            "Epoch 48/200\n",
            "125/125 [==============================] - 0s 2ms/step - loss: 0.1239 - accuracy: 0.9525\n",
            "Epoch 49/200\n",
            "125/125 [==============================] - 0s 2ms/step - loss: 0.1208 - accuracy: 0.9516\n",
            "Epoch 50/200\n",
            "125/125 [==============================] - 0s 2ms/step - loss: 0.1204 - accuracy: 0.9537\n",
            "Epoch 51/200\n",
            "125/125 [==============================] - 0s 2ms/step - loss: 0.1208 - accuracy: 0.9541\n",
            "Epoch 52/200\n",
            "125/125 [==============================] - 0s 2ms/step - loss: 0.1123 - accuracy: 0.9572\n",
            "Epoch 53/200\n",
            "125/125 [==============================] - 0s 2ms/step - loss: 0.1201 - accuracy: 0.9530\n",
            "Epoch 54/200\n",
            "125/125 [==============================] - 0s 2ms/step - loss: 0.1289 - accuracy: 0.9488\n",
            "Epoch 55/200\n",
            "125/125 [==============================] - 0s 2ms/step - loss: 0.1243 - accuracy: 0.9513\n",
            "Epoch 56/200\n",
            "125/125 [==============================] - 0s 2ms/step - loss: 0.1109 - accuracy: 0.9571\n",
            "Epoch 57/200\n",
            "125/125 [==============================] - 0s 2ms/step - loss: 0.1176 - accuracy: 0.9560\n",
            "Epoch 58/200\n",
            "125/125 [==============================] - 0s 2ms/step - loss: 0.1167 - accuracy: 0.9546\n",
            "Epoch 59/200\n",
            "125/125 [==============================] - 0s 2ms/step - loss: 0.1132 - accuracy: 0.9558\n",
            "Epoch 60/200\n",
            "125/125 [==============================] - 0s 2ms/step - loss: 0.1133 - accuracy: 0.9555\n",
            "Epoch 61/200\n",
            "125/125 [==============================] - 0s 2ms/step - loss: 0.1170 - accuracy: 0.9513\n",
            "Epoch 62/200\n",
            "125/125 [==============================] - 0s 2ms/step - loss: 0.1115 - accuracy: 0.9573\n",
            "Epoch 63/200\n",
            "125/125 [==============================] - 0s 2ms/step - loss: 0.1185 - accuracy: 0.9540\n",
            "Epoch 64/200\n",
            "125/125 [==============================] - 0s 2ms/step - loss: 0.1159 - accuracy: 0.9556\n",
            "Epoch 65/200\n",
            "125/125 [==============================] - 0s 2ms/step - loss: 0.1183 - accuracy: 0.9538\n",
            "Epoch 66/200\n",
            "125/125 [==============================] - 0s 2ms/step - loss: 0.1143 - accuracy: 0.9556\n",
            "Epoch 67/200\n",
            "125/125 [==============================] - 0s 2ms/step - loss: 0.1186 - accuracy: 0.9535\n",
            "Epoch 68/200\n",
            "125/125 [==============================] - 0s 2ms/step - loss: 0.1171 - accuracy: 0.9532\n",
            "Epoch 69/200\n",
            "125/125 [==============================] - 0s 2ms/step - loss: 0.1109 - accuracy: 0.9552\n",
            "Epoch 70/200\n",
            "125/125 [==============================] - 0s 2ms/step - loss: 0.1068 - accuracy: 0.9576\n",
            "Epoch 71/200\n",
            "125/125 [==============================] - 0s 2ms/step - loss: 0.1143 - accuracy: 0.9532\n",
            "Epoch 72/200\n",
            "125/125 [==============================] - 0s 2ms/step - loss: 0.1115 - accuracy: 0.9553\n",
            "Epoch 73/200\n",
            "125/125 [==============================] - 0s 2ms/step - loss: 0.1117 - accuracy: 0.9567\n",
            "Epoch 74/200\n",
            "125/125 [==============================] - 0s 2ms/step - loss: 0.1114 - accuracy: 0.9563\n",
            "Epoch 75/200\n",
            "125/125 [==============================] - 0s 2ms/step - loss: 0.1078 - accuracy: 0.9573\n",
            "Epoch 76/200\n",
            "125/125 [==============================] - 0s 2ms/step - loss: 0.1103 - accuracy: 0.9556\n",
            "Epoch 77/200\n",
            "125/125 [==============================] - 0s 2ms/step - loss: 0.1094 - accuracy: 0.9577\n",
            "Epoch 78/200\n",
            "125/125 [==============================] - 0s 2ms/step - loss: 0.1029 - accuracy: 0.9607\n",
            "Epoch 79/200\n",
            "125/125 [==============================] - 0s 2ms/step - loss: 0.1095 - accuracy: 0.9576\n",
            "Epoch 80/200\n",
            "125/125 [==============================] - 0s 2ms/step - loss: 0.1135 - accuracy: 0.9570\n",
            "Epoch 81/200\n",
            "125/125 [==============================] - 0s 2ms/step - loss: 0.1092 - accuracy: 0.9540\n",
            "Epoch 82/200\n",
            "125/125 [==============================] - 0s 2ms/step - loss: 0.1043 - accuracy: 0.9582\n",
            "Epoch 83/200\n",
            "125/125 [==============================] - 0s 2ms/step - loss: 0.1056 - accuracy: 0.9567\n",
            "Epoch 84/200\n",
            "125/125 [==============================] - 0s 2ms/step - loss: 0.1044 - accuracy: 0.9585\n",
            "Epoch 85/200\n",
            "125/125 [==============================] - 0s 2ms/step - loss: 0.1010 - accuracy: 0.9603\n",
            "Epoch 86/200\n",
            "125/125 [==============================] - 0s 2ms/step - loss: 0.1071 - accuracy: 0.9581\n",
            "Epoch 87/200\n",
            "125/125 [==============================] - 0s 2ms/step - loss: 0.1043 - accuracy: 0.9583\n",
            "Epoch 88/200\n",
            "125/125 [==============================] - 0s 2ms/step - loss: 0.1013 - accuracy: 0.9596\n",
            "Epoch 89/200\n",
            "125/125 [==============================] - 0s 2ms/step - loss: 0.1096 - accuracy: 0.9566\n",
            "Epoch 90/200\n",
            "125/125 [==============================] - 0s 2ms/step - loss: 0.1025 - accuracy: 0.9585\n",
            "Epoch 91/200\n",
            "125/125 [==============================] - 0s 2ms/step - loss: 0.1068 - accuracy: 0.9580\n",
            "Epoch 92/200\n",
            "125/125 [==============================] - 0s 2ms/step - loss: 0.1051 - accuracy: 0.9575\n",
            "Epoch 93/200\n",
            "125/125 [==============================] - 0s 2ms/step - loss: 0.0999 - accuracy: 0.9605\n",
            "Epoch 94/200\n",
            "125/125 [==============================] - 0s 2ms/step - loss: 0.1027 - accuracy: 0.9592\n",
            "Epoch 95/200\n",
            "125/125 [==============================] - 0s 2ms/step - loss: 0.1022 - accuracy: 0.9580\n",
            "Epoch 96/200\n",
            "125/125 [==============================] - 0s 2ms/step - loss: 0.1058 - accuracy: 0.9592\n",
            "Epoch 97/200\n",
            "125/125 [==============================] - 0s 2ms/step - loss: 0.1033 - accuracy: 0.9576\n",
            "Epoch 98/200\n",
            "125/125 [==============================] - 0s 2ms/step - loss: 0.1011 - accuracy: 0.9591\n",
            "Epoch 99/200\n",
            "125/125 [==============================] - 0s 2ms/step - loss: 0.1018 - accuracy: 0.9588\n",
            "Epoch 100/200\n",
            "125/125 [==============================] - 0s 2ms/step - loss: 0.1009 - accuracy: 0.9591\n",
            "Epoch 101/200\n",
            "125/125 [==============================] - 0s 2ms/step - loss: 0.0997 - accuracy: 0.9592\n",
            "Epoch 102/200\n",
            "125/125 [==============================] - 0s 2ms/step - loss: 0.1025 - accuracy: 0.9596\n",
            "Epoch 103/200\n",
            "125/125 [==============================] - 0s 2ms/step - loss: 0.1015 - accuracy: 0.9586\n",
            "Epoch 104/200\n",
            "125/125 [==============================] - 0s 2ms/step - loss: 0.0990 - accuracy: 0.9587\n",
            "Epoch 105/200\n",
            "125/125 [==============================] - 0s 2ms/step - loss: 0.1019 - accuracy: 0.9588\n",
            "Epoch 106/200\n",
            "125/125 [==============================] - 0s 2ms/step - loss: 0.0974 - accuracy: 0.9618\n",
            "Epoch 107/200\n",
            "125/125 [==============================] - 0s 2ms/step - loss: 0.1043 - accuracy: 0.9586\n",
            "Epoch 108/200\n",
            "125/125 [==============================] - 0s 2ms/step - loss: 0.1001 - accuracy: 0.9588\n",
            "Epoch 109/200\n",
            "125/125 [==============================] - 0s 2ms/step - loss: 0.0930 - accuracy: 0.9627\n",
            "Epoch 110/200\n",
            "125/125 [==============================] - 0s 2ms/step - loss: 0.0994 - accuracy: 0.9590\n",
            "Epoch 111/200\n",
            "125/125 [==============================] - 0s 2ms/step - loss: 0.0965 - accuracy: 0.9607\n",
            "Epoch 112/200\n",
            "125/125 [==============================] - 0s 2ms/step - loss: 0.0990 - accuracy: 0.9607\n",
            "Epoch 113/200\n",
            "125/125 [==============================] - 0s 2ms/step - loss: 0.0975 - accuracy: 0.9625\n",
            "Epoch 114/200\n",
            "125/125 [==============================] - 0s 2ms/step - loss: 0.0945 - accuracy: 0.9628\n",
            "Epoch 115/200\n",
            "125/125 [==============================] - 0s 2ms/step - loss: 0.0980 - accuracy: 0.9597\n",
            "Epoch 116/200\n",
            "125/125 [==============================] - 0s 2ms/step - loss: 0.0931 - accuracy: 0.9637\n",
            "Epoch 117/200\n",
            "125/125 [==============================] - 0s 2ms/step - loss: 0.1015 - accuracy: 0.9597\n",
            "Epoch 118/200\n",
            "125/125 [==============================] - 0s 2ms/step - loss: 0.0987 - accuracy: 0.9591\n",
            "Epoch 119/200\n",
            "125/125 [==============================] - 0s 2ms/step - loss: 0.1029 - accuracy: 0.9587\n",
            "Epoch 120/200\n",
            "125/125 [==============================] - 0s 2ms/step - loss: 0.0980 - accuracy: 0.9610\n",
            "Epoch 121/200\n",
            "125/125 [==============================] - 0s 2ms/step - loss: 0.1046 - accuracy: 0.9582\n",
            "Epoch 122/200\n",
            "125/125 [==============================] - 0s 2ms/step - loss: 0.0971 - accuracy: 0.9610\n",
            "Epoch 123/200\n",
            "125/125 [==============================] - 0s 2ms/step - loss: 0.0994 - accuracy: 0.9600\n",
            "Epoch 124/200\n",
            "125/125 [==============================] - 0s 2ms/step - loss: 0.0945 - accuracy: 0.9632\n",
            "Epoch 125/200\n",
            "125/125 [==============================] - 0s 2ms/step - loss: 0.0993 - accuracy: 0.9600\n",
            "Epoch 126/200\n",
            "125/125 [==============================] - 0s 2ms/step - loss: 0.1032 - accuracy: 0.9597\n",
            "Epoch 127/200\n",
            "125/125 [==============================] - 0s 2ms/step - loss: 0.0903 - accuracy: 0.9646\n",
            "Epoch 128/200\n",
            "125/125 [==============================] - 0s 2ms/step - loss: 0.0986 - accuracy: 0.9620\n",
            "Epoch 129/200\n",
            "125/125 [==============================] - 0s 2ms/step - loss: 0.1018 - accuracy: 0.9575\n",
            "Epoch 130/200\n",
            "125/125 [==============================] - 0s 2ms/step - loss: 0.0926 - accuracy: 0.9628\n",
            "Epoch 131/200\n",
            "125/125 [==============================] - 0s 2ms/step - loss: 0.1012 - accuracy: 0.9586\n",
            "Epoch 132/200\n",
            "125/125 [==============================] - 0s 2ms/step - loss: 0.0936 - accuracy: 0.9632\n",
            "Epoch 133/200\n",
            "125/125 [==============================] - 0s 2ms/step - loss: 0.0959 - accuracy: 0.9628\n",
            "Epoch 134/200\n",
            "125/125 [==============================] - 0s 2ms/step - loss: 0.0964 - accuracy: 0.9605\n",
            "Epoch 135/200\n",
            "125/125 [==============================] - 0s 2ms/step - loss: 0.0985 - accuracy: 0.9622\n",
            "Epoch 136/200\n",
            "125/125 [==============================] - 0s 2ms/step - loss: 0.0963 - accuracy: 0.9596\n",
            "Epoch 137/200\n",
            "125/125 [==============================] - 0s 2ms/step - loss: 0.0969 - accuracy: 0.9615\n",
            "Epoch 138/200\n",
            "125/125 [==============================] - 0s 2ms/step - loss: 0.0970 - accuracy: 0.9608\n",
            "Epoch 139/200\n",
            "125/125 [==============================] - 0s 2ms/step - loss: 0.1005 - accuracy: 0.9606\n",
            "Epoch 140/200\n",
            "125/125 [==============================] - 0s 2ms/step - loss: 0.0946 - accuracy: 0.9620\n",
            "Epoch 141/200\n",
            "125/125 [==============================] - 0s 2ms/step - loss: 0.1043 - accuracy: 0.9582\n",
            "Epoch 142/200\n",
            "125/125 [==============================] - 0s 2ms/step - loss: 0.0941 - accuracy: 0.9635\n",
            "Epoch 143/200\n",
            "125/125 [==============================] - 0s 2ms/step - loss: 0.0895 - accuracy: 0.9648\n",
            "Epoch 144/200\n",
            "125/125 [==============================] - 0s 2ms/step - loss: 0.0955 - accuracy: 0.9607\n",
            "Epoch 145/200\n",
            "125/125 [==============================] - 0s 2ms/step - loss: 0.0922 - accuracy: 0.9626\n",
            "Epoch 146/200\n",
            "125/125 [==============================] - 0s 2ms/step - loss: 0.0979 - accuracy: 0.9627\n",
            "Epoch 147/200\n",
            "125/125 [==============================] - 0s 2ms/step - loss: 0.0872 - accuracy: 0.9653\n",
            "Epoch 148/200\n",
            "125/125 [==============================] - 0s 2ms/step - loss: 0.0907 - accuracy: 0.9640\n",
            "Epoch 149/200\n",
            "125/125 [==============================] - 0s 2ms/step - loss: 0.0969 - accuracy: 0.9611\n",
            "Epoch 150/200\n",
            "125/125 [==============================] - 0s 2ms/step - loss: 0.0993 - accuracy: 0.9615\n",
            "Epoch 151/200\n",
            "125/125 [==============================] - 0s 2ms/step - loss: 0.0990 - accuracy: 0.9625\n",
            "Epoch 152/200\n",
            "125/125 [==============================] - 0s 2ms/step - loss: 0.0978 - accuracy: 0.9605\n",
            "Epoch 153/200\n",
            "125/125 [==============================] - 0s 2ms/step - loss: 0.0937 - accuracy: 0.9638\n",
            "Epoch 154/200\n",
            "125/125 [==============================] - 0s 2ms/step - loss: 0.0927 - accuracy: 0.9647\n",
            "Epoch 155/200\n",
            "125/125 [==============================] - 0s 2ms/step - loss: 0.0983 - accuracy: 0.9613\n",
            "Epoch 156/200\n",
            "125/125 [==============================] - 0s 2ms/step - loss: 0.0915 - accuracy: 0.9645\n",
            "Epoch 157/200\n",
            "125/125 [==============================] - 0s 2ms/step - loss: 0.0958 - accuracy: 0.9610\n",
            "Epoch 158/200\n",
            "125/125 [==============================] - 0s 2ms/step - loss: 0.0957 - accuracy: 0.9608\n",
            "Epoch 159/200\n",
            "125/125 [==============================] - 0s 2ms/step - loss: 0.0909 - accuracy: 0.9627\n",
            "Epoch 160/200\n",
            "125/125 [==============================] - 0s 2ms/step - loss: 0.0963 - accuracy: 0.9623\n",
            "Epoch 161/200\n",
            "125/125 [==============================] - 0s 2ms/step - loss: 0.1016 - accuracy: 0.9586\n",
            "Epoch 162/200\n",
            "125/125 [==============================] - 0s 2ms/step - loss: 0.0960 - accuracy: 0.9607\n",
            "Epoch 163/200\n",
            "125/125 [==============================] - 0s 2ms/step - loss: 0.0980 - accuracy: 0.9592\n",
            "Epoch 164/200\n",
            "125/125 [==============================] - 0s 2ms/step - loss: 0.0920 - accuracy: 0.9641\n",
            "Epoch 165/200\n",
            "125/125 [==============================] - 0s 2ms/step - loss: 0.0881 - accuracy: 0.9637\n",
            "Epoch 166/200\n",
            "125/125 [==============================] - 0s 2ms/step - loss: 0.0978 - accuracy: 0.9612\n",
            "Epoch 167/200\n",
            "125/125 [==============================] - 0s 2ms/step - loss: 0.0928 - accuracy: 0.9623\n",
            "Epoch 168/200\n",
            "125/125 [==============================] - 0s 2ms/step - loss: 0.0886 - accuracy: 0.9655\n",
            "Epoch 169/200\n",
            "125/125 [==============================] - 0s 2ms/step - loss: 0.0918 - accuracy: 0.9621\n",
            "Epoch 170/200\n",
            "125/125 [==============================] - 0s 2ms/step - loss: 0.1046 - accuracy: 0.9593\n",
            "Epoch 171/200\n",
            "125/125 [==============================] - 0s 2ms/step - loss: 0.0904 - accuracy: 0.9647\n",
            "Epoch 172/200\n",
            "125/125 [==============================] - 0s 2ms/step - loss: 0.0905 - accuracy: 0.9631\n",
            "Epoch 173/200\n",
            "125/125 [==============================] - 0s 2ms/step - loss: 0.0971 - accuracy: 0.9615\n",
            "Epoch 174/200\n",
            "125/125 [==============================] - 0s 2ms/step - loss: 0.0932 - accuracy: 0.9635\n",
            "Epoch 175/200\n",
            "125/125 [==============================] - 0s 2ms/step - loss: 0.0950 - accuracy: 0.9636\n",
            "Epoch 176/200\n",
            "125/125 [==============================] - 0s 2ms/step - loss: 0.0947 - accuracy: 0.9625\n",
            "Epoch 177/200\n",
            "125/125 [==============================] - 0s 2ms/step - loss: 0.0962 - accuracy: 0.9622\n",
            "Epoch 178/200\n",
            "125/125 [==============================] - 0s 2ms/step - loss: 0.0934 - accuracy: 0.9627\n",
            "Epoch 179/200\n",
            "125/125 [==============================] - 0s 2ms/step - loss: 0.0880 - accuracy: 0.9655\n",
            "Epoch 180/200\n",
            "125/125 [==============================] - 0s 2ms/step - loss: 0.0932 - accuracy: 0.9621\n",
            "Epoch 181/200\n",
            "125/125 [==============================] - 0s 2ms/step - loss: 0.0948 - accuracy: 0.9615\n",
            "Epoch 182/200\n",
            "125/125 [==============================] - 0s 2ms/step - loss: 0.0843 - accuracy: 0.9670\n",
            "Epoch 183/200\n",
            "125/125 [==============================] - 0s 2ms/step - loss: 0.0884 - accuracy: 0.9640\n",
            "Epoch 184/200\n",
            "125/125 [==============================] - 0s 2ms/step - loss: 0.0908 - accuracy: 0.9646\n",
            "Epoch 185/200\n",
            "125/125 [==============================] - 0s 2ms/step - loss: 0.0874 - accuracy: 0.9653\n",
            "Epoch 186/200\n",
            "125/125 [==============================] - 0s 2ms/step - loss: 0.0947 - accuracy: 0.9627\n",
            "Epoch 187/200\n",
            "125/125 [==============================] - 0s 2ms/step - loss: 0.0971 - accuracy: 0.9627\n",
            "Epoch 188/200\n",
            "125/125 [==============================] - 0s 2ms/step - loss: 0.0906 - accuracy: 0.9638\n",
            "Epoch 189/200\n",
            "125/125 [==============================] - 0s 2ms/step - loss: 0.0953 - accuracy: 0.9621\n",
            "Epoch 190/200\n",
            "125/125 [==============================] - 0s 2ms/step - loss: 0.0931 - accuracy: 0.9627\n",
            "Epoch 191/200\n",
            "125/125 [==============================] - 0s 2ms/step - loss: 0.0890 - accuracy: 0.9653\n",
            "Epoch 192/200\n",
            "125/125 [==============================] - 0s 2ms/step - loss: 0.0882 - accuracy: 0.9651\n",
            "Epoch 193/200\n",
            "125/125 [==============================] - 0s 2ms/step - loss: 0.0862 - accuracy: 0.9665\n",
            "Epoch 194/200\n",
            "125/125 [==============================] - 0s 2ms/step - loss: 0.0886 - accuracy: 0.9661\n",
            "Epoch 195/200\n",
            "125/125 [==============================] - 0s 2ms/step - loss: 0.0906 - accuracy: 0.9626\n",
            "Epoch 196/200\n",
            "125/125 [==============================] - 0s 2ms/step - loss: 0.1044 - accuracy: 0.9566\n",
            "Epoch 197/200\n",
            "125/125 [==============================] - 0s 2ms/step - loss: 0.0904 - accuracy: 0.9638\n",
            "Epoch 198/200\n",
            "125/125 [==============================] - 0s 2ms/step - loss: 0.0971 - accuracy: 0.9627\n",
            "Epoch 199/200\n",
            "125/125 [==============================] - 0s 2ms/step - loss: 0.0919 - accuracy: 0.9617\n",
            "Epoch 200/200\n",
            "125/125 [==============================] - 0s 2ms/step - loss: 0.0898 - accuracy: 0.9615\n",
            "Accuracy :  0.9614710807800293\n"
          ]
        }
      ]
    },
    {
      "cell_type": "code",
      "source": [
        "evaluate = tf.model.evaluate(x_data, y_data)\n",
        "print(\"loss: {0}, accuracy: {1}\".format(evaluate[0], evaluate[1]*100))"
      ],
      "metadata": {
        "colab": {
          "base_uri": "https://localhost:8080/"
        },
        "id": "66bHxVSHmToa",
        "outputId": "b1eebb50-adf0-40ab-d077-871e51b7f686"
      },
      "execution_count": null,
      "outputs": [
        {
          "output_type": "stream",
          "name": "stdout",
          "text": [
            "250/250 [==============================] - 0s 2ms/step - loss: 0.1010 - accuracy: 0.8860\n",
            "loss: 0.10097632557153702, accuracy: 88.60395550727844\n"
          ]
        }
      ]
    },
    {
      "cell_type": "markdown",
      "source": [
        "# 새 섹션"
      ],
      "metadata": {
        "id": "l7Q0NqG-966I"
      }
    },
    {
      "cell_type": "markdown",
      "source": [
        "deep\n",
        "\n",
        "> 들여쓴 블록\n",
        "\n",
        "# > 들여쓴 블록\n",
        "\n",
        "---\n",
        "\n",
        "\n",
        "\n",
        "\n",
        "\n"
      ],
      "metadata": {
        "id": "IDUHs8eFzWWv"
      }
    },
    {
      "cell_type": "code",
      "source": [
        "#모델 구성하기\n",
        "\n",
        "\n",
        "tf.model = tf.keras.Sequential()\n",
        "tf.model.add(tf.keras.layers.Dense(units = 10, input_dim = x_data.shape[1], activation = 'relu')) #입력\n",
        "tf.model.add(tf.keras.layers.Dense(units = 10, activation = 'relu')) #은닉\n",
        "tf.model.add(tf.keras.layers.Dense(units = 5, activation = 'relu')) #은닉\n",
        "tf.model.add(tf.keras.layers.Dense(units = 5, activation = 'relu')) # 은닉\n",
        "tf.model.add(tf.keras.layers.Dense(units = 1, activation = 'sigmoid')) # 출력층\n",
        "#모델 학습과정 설정하기\n",
        "tf.model.compile(loss = 'mse', optimizer = tf.keras.optimizers.Adam(lr = 0.01), metrics = ['accuracy'])\n",
        "history = tf.model.fit(x_data, y_data, epochs = 10,batch_size=64)\n",
        "print(\"Accuracy : \", history.history['accuracy'][-1])\n",
        "tf.model.summary()"
      ],
      "metadata": {
        "id": "TUAuLtZszYir",
        "colab": {
          "base_uri": "https://localhost:8080/"
        },
        "outputId": "2932db34-2f64-4bdf-a52b-351d75c219c5"
      },
      "execution_count": null,
      "outputs": [
        {
          "output_type": "stream",
          "name": "stdout",
          "text": [
            "Epoch 1/10\n"
          ]
        },
        {
          "output_type": "stream",
          "name": "stderr",
          "text": [
            "/usr/local/lib/python3.7/dist-packages/keras/optimizer_v2/adam.py:105: UserWarning: The `lr` argument is deprecated, use `learning_rate` instead.\n",
            "  super(Adam, self).__init__(name, **kwargs)\n"
          ]
        },
        {
          "output_type": "stream",
          "name": "stdout",
          "text": [
            "125/125 [==============================] - 1s 2ms/step - loss: 0.1332 - accuracy: 0.8672\n",
            "Epoch 2/10\n",
            "125/125 [==============================] - 0s 2ms/step - loss: 0.1010 - accuracy: 0.8860\n",
            "Epoch 3/10\n",
            "125/125 [==============================] - 0s 3ms/step - loss: 0.1010 - accuracy: 0.8860\n",
            "Epoch 4/10\n",
            "125/125 [==============================] - 0s 3ms/step - loss: 0.1010 - accuracy: 0.8860\n",
            "Epoch 5/10\n",
            "125/125 [==============================] - 0s 2ms/step - loss: 0.1011 - accuracy: 0.8860\n",
            "Epoch 6/10\n",
            "125/125 [==============================] - 0s 3ms/step - loss: 0.1010 - accuracy: 0.8860\n",
            "Epoch 7/10\n",
            "125/125 [==============================] - 0s 2ms/step - loss: 0.1010 - accuracy: 0.8860\n",
            "Epoch 8/10\n",
            "125/125 [==============================] - 0s 2ms/step - loss: 0.1011 - accuracy: 0.8860\n",
            "Epoch 9/10\n",
            "125/125 [==============================] - 0s 2ms/step - loss: 0.1010 - accuracy: 0.8860\n",
            "Epoch 10/10\n",
            "125/125 [==============================] - 0s 2ms/step - loss: 0.1010 - accuracy: 0.8860\n",
            "Accuracy :  0.8860395550727844\n",
            "Model: \"sequential_12\"\n",
            "_________________________________________________________________\n",
            " Layer (type)                Output Shape              Param #   \n",
            "=================================================================\n",
            " dense_57 (Dense)            (None, 10)                210       \n",
            "                                                                 \n",
            " dense_58 (Dense)            (None, 10)                110       \n",
            "                                                                 \n",
            " dense_59 (Dense)            (None, 5)                 55        \n",
            "                                                                 \n",
            " dense_60 (Dense)            (None, 5)                 30        \n",
            "                                                                 \n",
            " dense_61 (Dense)            (None, 1)                 6         \n",
            "                                                                 \n",
            "=================================================================\n",
            "Total params: 411\n",
            "Trainable params: 411\n",
            "Non-trainable params: 0\n",
            "_________________________________________________________________\n"
          ]
        }
      ]
    },
    {
      "cell_type": "code",
      "source": [
        "evaluate = tf.model.evaluate(x_data, y_data, verbose = 0)\n",
        "print(\"loss: {0}, accuracy: {1}\".format(evaluate[0], evaluate[1]*100))\n"
      ],
      "metadata": {
        "colab": {
          "base_uri": "https://localhost:8080/"
        },
        "id": "J4x8YfVB3FE8",
        "outputId": "2aa44d36-2050-4918-ea22-396536dae56d"
      },
      "execution_count": null,
      "outputs": [
        {
          "output_type": "stream",
          "name": "stdout",
          "text": [
            "loss: 0.10097383707761765, accuracy: 88.60395550727844\n"
          ]
        }
      ]
    },
    {
      "cell_type": "markdown",
      "source": [
        "# 새 섹션 svm"
      ],
      "metadata": {
        "id": "Q4PhX5vVBax3"
      }
    },
    {
      "cell_type": "code",
      "source": [
        "columns = dict(zip(list(range(data.shape[1])), data.columns.values.tolist()))\n",
        "is_safe = data['is_safe']\n",
        "\n",
        "data = pd.DataFrame(StandardScaler().fit_transform(data)).rename(columns = columns)\n",
        "data['is_safe'] = is_safe\n",
        "data = data.dropna() #1개 라도 NaN 값이 있는 행"
      ],
      "metadata": {
        "id": "5bvmTb58CPGR"
      },
      "execution_count": null,
      "outputs": []
    },
    {
      "cell_type": "code",
      "source": [
        "X = data.drop('is_safe', axis = 1)\n",
        "Y = data['is_safe']\n",
        "\n",
        "X_train, X_test, Y_train, Y_test = train_test_split(X, Y, random_state = 0) #데이터를 훈련+검증 세트 그리고 테스트 로 분할\n",
        "X_train, X_valid, Y_train, y_valid = train_test_split(X_train, Y_train, random_state=1)  # 훈련+검증 세트를 훈련 세트와 검증세트로 분할"
      ],
      "metadata": {
        "id": "XVoU0FNQ6Kzu"
      },
      "execution_count": null,
      "outputs": []
    },
    {
      "cell_type": "code",
      "source": [
        "print(\"훈련 세트의 크기: {}   검증 세트의 크기: {}   테스트 세트의 크기:\"\n",
        "      \" {}\\n\".format(X_train.shape[0], X_valid.shape[0], X_test.shape[0]))"
      ],
      "metadata": {
        "colab": {
          "base_uri": "https://localhost:8080/"
        },
        "id": "-J4LXPjRD6XC",
        "outputId": "ac09bf62-15cc-448b-bdc4-6e3e40961ab1"
      },
      "execution_count": null,
      "outputs": [
        {
          "output_type": "stream",
          "name": "stdout",
          "text": [
            "훈련 세트의 크기: 4492   검증 세트의 크기: 1498   테스트 세트의 크기: 1997\n",
            "\n"
          ]
        }
      ]
    },
    {
      "cell_type": "code",
      "source": [
        "best_score= 0\n",
        "\n",
        "for gamma in [0.001, 0.01, 0.1, 1, 10, 100]:\n",
        "  for C in[0.001, 0.01, 0.1, 1, 10, 100]: \n",
        "    #매개 변수의 각 조합에 대해해 SVC 를 훈련 시킵니다.\n",
        "    svm = SVC(gamma=gamma, C=C)\n",
        "    # 교차 검증을 적용\n",
        "    score = svm.score(X_valid, y_valid, cv= 6)\n",
        "    # 교차 검증 정확도의 평균을 계산합니다\n",
        "    score = np.mean(score)\n",
        "     # 점수가 더 높으면 매개변수와 함께 기록합니다\n",
        "    if score > best_score:\n",
        "      best_score = score\n",
        "      best_parameters = {'C': C, 'gamma': gamma}\n",
        "# 훈련 세트와 검증 세트를 합쳐 모델을 다시 만듭니다\n",
        "svm = SVC(**best_parameters)\n",
        "svm.fit(X_train, Y_train)"
      ],
      "metadata": {
        "colab": {
          "base_uri": "https://localhost:8080/",
          "height": 245
        },
        "id": "5WPNmBZQBpj_",
        "outputId": "f4feaf08-8e0b-4eb6-b89b-49a54001ddcb"
      },
      "execution_count": null,
      "outputs": [
        {
          "output_type": "error",
          "ename": "TypeError",
          "evalue": "ignored",
          "traceback": [
            "\u001b[0;31m---------------------------------------------------------------------------\u001b[0m",
            "\u001b[0;31mTypeError\u001b[0m                                 Traceback (most recent call last)",
            "\u001b[0;32m<ipython-input-13-2589378e2f42>\u001b[0m in \u001b[0;36m<module>\u001b[0;34m()\u001b[0m\n\u001b[1;32m      6\u001b[0m     \u001b[0msvm\u001b[0m \u001b[0;34m=\u001b[0m \u001b[0mSVC\u001b[0m\u001b[0;34m(\u001b[0m\u001b[0mgamma\u001b[0m\u001b[0;34m=\u001b[0m\u001b[0mgamma\u001b[0m\u001b[0;34m,\u001b[0m \u001b[0mC\u001b[0m\u001b[0;34m=\u001b[0m\u001b[0mC\u001b[0m\u001b[0;34m)\u001b[0m\u001b[0;34m\u001b[0m\u001b[0;34m\u001b[0m\u001b[0m\n\u001b[1;32m      7\u001b[0m     \u001b[0;31m# 교차 검증을 적용\u001b[0m\u001b[0;34m\u001b[0m\u001b[0;34m\u001b[0m\u001b[0;34m\u001b[0m\u001b[0m\n\u001b[0;32m----> 8\u001b[0;31m     \u001b[0mscore\u001b[0m \u001b[0;34m=\u001b[0m \u001b[0msvm\u001b[0m\u001b[0;34m.\u001b[0m\u001b[0mscore\u001b[0m\u001b[0;34m(\u001b[0m\u001b[0mX_valid\u001b[0m\u001b[0;34m,\u001b[0m \u001b[0my_valid\u001b[0m\u001b[0;34m,\u001b[0m \u001b[0mcv\u001b[0m\u001b[0;34m=\u001b[0m \u001b[0;36m6\u001b[0m\u001b[0;34m)\u001b[0m\u001b[0;34m\u001b[0m\u001b[0;34m\u001b[0m\u001b[0m\n\u001b[0m\u001b[1;32m      9\u001b[0m     \u001b[0;31m# 교차 검증 정확도의 평균을 계산합니다\u001b[0m\u001b[0;34m\u001b[0m\u001b[0;34m\u001b[0m\u001b[0;34m\u001b[0m\u001b[0m\n\u001b[1;32m     10\u001b[0m     \u001b[0mscore\u001b[0m \u001b[0;34m=\u001b[0m \u001b[0mnp\u001b[0m\u001b[0;34m.\u001b[0m\u001b[0mmean\u001b[0m\u001b[0;34m(\u001b[0m\u001b[0mscore\u001b[0m\u001b[0;34m)\u001b[0m\u001b[0;34m\u001b[0m\u001b[0;34m\u001b[0m\u001b[0m\n",
            "\u001b[0;31mTypeError\u001b[0m: score() got an unexpected keyword argument 'cv'"
          ]
        }
      ]
    },
    {
      "cell_type": "code",
      "source": [
        "# 매개변수 그리드 만들기\n",
        "param_grid = {'C': [0.001, 0.01, 0.1, 1, 10, 100],\n",
        "              'gamma': [0.001, 0.01, 0.1, 1, 10, 100]}\n",
        "print(\"매개변수 그리드:\\n\", param_grid)\n",
        "\n",
        "\n",
        "# GridSearchCV를 이용하여 교차검증 그리드 객체 만들기\n",
        "from sklearn.model_selection import GridSearchCV\n",
        "from sklearn.svm import SVC\n",
        "grid_search = GridSearchCV(SVC(), param_grid, cv=5, return_train_score=True)\n",
        "# GridSearchCV(모델, 검색 대상 매개변수 그리드, cv=몇번 교차검증, return_train_score=True)\n",
        "\n",
        "\n",
        "# 데이터 나누기 훈련/테스트\n",
        "X_train, X_test, Y_train, Y_test = train_test_split(X,Y,random_state =1)\n",
        "\n",
        "\n",
        "# 최적의 매개변수로 전체 훈련 데이터 세트에 대한 새로운 모델을 자동으로 만듬\n",
        "grid_search.fit(X_train, y_train)\n",
        "\n",
        "\n",
        "# 최적의 매개변수를 사용한 모델의 테스트 정확도 확인\n",
        "print(\"테스트 세트 점수: {:.2f}\".format(grid_search.score(X_test, y_test)))\n",
        "\n",
        "\n",
        "# 최적 매개변수 (테스트 사용되지 않음)\n",
        "print(\"최적 매개변수:\", grid_search.best_params_)\n",
        "\n",
        "# 최상의 교차 검증 정확도 (테스트 사용되지 않음)\n",
        "print(\"최고 교차 검증 점수: {:.2f}\".format(grid_search.best_score_))\n",
        "\n",
        "# 최고 성능의 모델 구성 요소 확인\n",
        "print(\"최고 성능 모델:\\n\", grid_search.best_estimator_)"
      ],
      "metadata": {
        "colab": {
          "base_uri": "https://localhost:8080/"
        },
        "id": "WS9Nj-2rFXR1",
        "outputId": "b2e172cc-8bc4-4288-c6d2-cbb2332d3bee"
      },
      "execution_count": null,
      "outputs": [
        {
          "output_type": "stream",
          "name": "stdout",
          "text": [
            "매개변수 그리드:\n",
            " {'C': [0.001, 0.01, 0.1, 1, 10, 100], 'gamma': [0.001, 0.01, 0.1, 1, 10, 100]}\n",
            "테스트 세트 점수: 0.91\n",
            "최적 매개변수: {'C': 100, 'gamma': 0.001}\n",
            "최고 교차 검증 점수: 0.92\n",
            "최고 성능 모델:\n",
            " SVC(C=100, gamma=0.001)\n"
          ]
        }
      ]
    },
    {
      "cell_type": "code",
      "source": [
        "predict = grid_search.predict(X_test)\n",
        "grid_search.best_params_\n",
        "print(classification_report(Y_test, predict))\n",
        "print(confusion_matrix(Y_test, predict))"
      ],
      "metadata": {
        "colab": {
          "base_uri": "https://localhost:8080/"
        },
        "id": "t7mswwZ0M78C",
        "outputId": "290ef813-4645-44ea-c388-5f2617740550"
      },
      "execution_count": null,
      "outputs": [
        {
          "output_type": "stream",
          "name": "stdout",
          "text": [
            "              precision    recall  f1-score   support\n",
            "\n",
            "           0       0.93      0.98      0.95      1787\n",
            "           1       0.69      0.34      0.46       212\n",
            "\n",
            "    accuracy                           0.91      1999\n",
            "   macro avg       0.81      0.66      0.70      1999\n",
            "weighted avg       0.90      0.91      0.90      1999\n",
            "\n",
            "[[1755   32]\n",
            " [ 140   72]]\n"
          ]
        }
      ]
    }
  ]
}