{
  "nbformat": 4,
  "nbformat_minor": 0,
  "metadata": {
    "colab": {
      "name": "AITEST.ipynb",
      "provenance": [],
      "collapsed_sections": [
        "ijVicXawxtDb",
        "IDUHs8eFzWWv",
        "Q4PhX5vVBax3"
      ],
      "toc_visible": true,
      "authorship_tag": "ABX9TyPJiv0twSB3dhZ0KJKvAQNI",
      "include_colab_link": true
    },
    "kernelspec": {
      "name": "python3",
      "display_name": "Python 3"
    },
    "language_info": {
      "name": "python"
    }
  },
  "cells": [
    {
      "cell_type": "markdown",
      "metadata": {
        "id": "view-in-github",
        "colab_type": "text"
      },
      "source": [
        "<a href=\"https://colab.research.google.com/github/duddnd36/AI_assg/blob/main/AITEST.ipynb\" target=\"_parent\"><img src=\"https://colab.research.google.com/assets/colab-badge.svg\" alt=\"Open In Colab\"/></a>"
      ]
    },
    {
      "cell_type": "code",
      "execution_count": null,
      "metadata": {
        "colab": {
          "resources": {
            "http://localhost:8080/nbextensions/google.colab/files.js": {
              "data": "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",
              "ok": true,
              "headers": [
                [
                  "content-type",
                  "application/javascript"
                ]
              ],
              "status": 200,
              "status_text": ""
            }
          },
          "base_uri": "https://localhost:8080/",
          "height": 77
        },
        "id": "72FKMeKCdoNE",
        "outputId": "7b3f0c2f-92cc-415b-abd0-46b1c010b4c7"
      },
      "outputs": [
        {
          "output_type": "display_data",
          "data": {
            "text/plain": [
              "<IPython.core.display.HTML object>"
            ],
            "text/html": [
              "\n",
              "     <input type=\"file\" id=\"files-a7354cf3-8ca7-48c8-b392-49310d150692\" name=\"files[]\" multiple disabled\n",
              "        style=\"border:none\" />\n",
              "     <output id=\"result-a7354cf3-8ca7-48c8-b392-49310d150692\">\n",
              "      Upload widget is only available when the cell has been executed in the\n",
              "      current browser session. Please rerun this cell to enable.\n",
              "      </output>\n",
              "      <script src=\"/nbextensions/google.colab/files.js\"></script> "
            ]
          },
          "metadata": {}
        },
        {
          "output_type": "stream",
          "name": "stdout",
          "text": [
            "Saving waterQuality1.csv to waterQuality1.csv\n"
          ]
        }
      ],
      "source": [
        "from google.colab import files\n",
        "myfile =files.upload()"
      ]
    },
    {
      "cell_type": "code",
      "source": [
        "import io\n",
        "import numpy as np\n",
        "import pandas as pd\n",
        "from keras.models import Sequential\n",
        "from keras.layers import Dense\n",
        "import tensorflow as tf\n",
        "from sklearn.preprocessing import LabelEncoder, StandardScaler\n",
        "from sklearn.model_selection import train_test_split\n",
        "\n",
        "from sklearn.neighbors import KNeighborsClassifier\n",
        "from sklearn.tree import DecisionTreeClassifier, plot_tree\n",
        "from sklearn.svm import SVC\n",
        "from sklearn.ensemble import RandomForestClassifier\n",
        "from sklearn.ensemble import AdaBoostClassifier\n",
        "from sklearn.model_selection import GridSearchCV\n",
        "\n",
        "from sklearn.metrics import classification_report\n",
        "from sklearn.metrics import confusion_matrix"
      ],
      "metadata": {
        "id": "495pq29VzHmi"
      },
      "execution_count": 148,
      "outputs": []
    },
    {
      "cell_type": "code",
      "source": [
        "#SVM 데이터셋\n",
        "#데이터 셋 준비하기\n",
        "data = pd.read_csv(io.BytesIO(myfile['waterQuality1.csv']))\n",
        "data = data.drop('ammonia', axis = 1)\n",
        "data = data.drop('flouride', axis = 1)\n",
        "data = data.drop('selenium', axis = 1)\n",
        "data = data.drop('uranium', axis = 1)\n",
        "\n",
        "data = data[data['is_safe'] != '#NUM!']\n",
        "data['is_safe'] = data['is_safe'].astype(int)\n",
        "\n",
        "data.head(6)"
      ],
      "metadata": {
        "colab": {
          "base_uri": "https://localhost:8080/",
          "height": 301
        },
        "id": "he4uAdOP-JZF",
        "outputId": "50ef796d-29ed-430c-c5b6-e06d5e4c35b9"
      },
      "execution_count": 168,
      "outputs": [
        {
          "output_type": "execute_result",
          "data": {
            "text/plain": [
              "   aluminium  arsenic  barium  cadmium  chloramine  chromium  copper  \\\n",
              "0       1.65     0.04    2.85    0.007        0.35      0.83    0.17   \n",
              "1       2.32     0.01    3.31    0.002        5.28      0.68    0.66   \n",
              "2       1.01     0.04    0.58    0.008        4.24      0.53    0.02   \n",
              "3       1.36     0.04    2.96    0.001        7.23      0.03    1.66   \n",
              "4       0.92     0.03    0.20    0.006        2.67      0.69    0.57   \n",
              "5       0.94     0.03    2.88    0.003        0.80      0.43    1.38   \n",
              "\n",
              "   bacteria  viruses   lead  nitrates  nitrites  mercury  perchlorate  radium  \\\n",
              "0      0.20    0.000  0.054     16.08      1.13    0.007        37.75    6.78   \n",
              "1      0.65    0.650  0.100      2.01      1.93    0.003        32.26    3.21   \n",
              "2      0.05    0.003  0.078     14.16      1.11    0.006        50.28    7.07   \n",
              "3      0.71    0.710  0.016      1.41      1.29    0.004         9.12    1.72   \n",
              "4      0.13    0.001  0.117      6.74      1.11    0.003        16.90    2.41   \n",
              "5      0.67    0.670  0.135      9.75      1.89    0.006        27.17    5.42   \n",
              "\n",
              "   silver  is_safe  \n",
              "0    0.34        1  \n",
              "1    0.27        1  \n",
              "2    0.44        0  \n",
              "3    0.45        1  \n",
              "4    0.06        1  \n",
              "5    0.19        1  "
            ],
            "text/html": [
              "\n",
              "  <div id=\"df-4f4e0e5e-906f-4791-ad54-38ecf86602a0\">\n",
              "    <div class=\"colab-df-container\">\n",
              "      <div>\n",
              "<style scoped>\n",
              "    .dataframe tbody tr th:only-of-type {\n",
              "        vertical-align: middle;\n",
              "    }\n",
              "\n",
              "    .dataframe tbody tr th {\n",
              "        vertical-align: top;\n",
              "    }\n",
              "\n",
              "    .dataframe thead th {\n",
              "        text-align: right;\n",
              "    }\n",
              "</style>\n",
              "<table border=\"1\" class=\"dataframe\">\n",
              "  <thead>\n",
              "    <tr style=\"text-align: right;\">\n",
              "      <th></th>\n",
              "      <th>aluminium</th>\n",
              "      <th>arsenic</th>\n",
              "      <th>barium</th>\n",
              "      <th>cadmium</th>\n",
              "      <th>chloramine</th>\n",
              "      <th>chromium</th>\n",
              "      <th>copper</th>\n",
              "      <th>bacteria</th>\n",
              "      <th>viruses</th>\n",
              "      <th>lead</th>\n",
              "      <th>nitrates</th>\n",
              "      <th>nitrites</th>\n",
              "      <th>mercury</th>\n",
              "      <th>perchlorate</th>\n",
              "      <th>radium</th>\n",
              "      <th>silver</th>\n",
              "      <th>is_safe</th>\n",
              "    </tr>\n",
              "  </thead>\n",
              "  <tbody>\n",
              "    <tr>\n",
              "      <th>0</th>\n",
              "      <td>1.65</td>\n",
              "      <td>0.04</td>\n",
              "      <td>2.85</td>\n",
              "      <td>0.007</td>\n",
              "      <td>0.35</td>\n",
              "      <td>0.83</td>\n",
              "      <td>0.17</td>\n",
              "      <td>0.20</td>\n",
              "      <td>0.000</td>\n",
              "      <td>0.054</td>\n",
              "      <td>16.08</td>\n",
              "      <td>1.13</td>\n",
              "      <td>0.007</td>\n",
              "      <td>37.75</td>\n",
              "      <td>6.78</td>\n",
              "      <td>0.34</td>\n",
              "      <td>1</td>\n",
              "    </tr>\n",
              "    <tr>\n",
              "      <th>1</th>\n",
              "      <td>2.32</td>\n",
              "      <td>0.01</td>\n",
              "      <td>3.31</td>\n",
              "      <td>0.002</td>\n",
              "      <td>5.28</td>\n",
              "      <td>0.68</td>\n",
              "      <td>0.66</td>\n",
              "      <td>0.65</td>\n",
              "      <td>0.650</td>\n",
              "      <td>0.100</td>\n",
              "      <td>2.01</td>\n",
              "      <td>1.93</td>\n",
              "      <td>0.003</td>\n",
              "      <td>32.26</td>\n",
              "      <td>3.21</td>\n",
              "      <td>0.27</td>\n",
              "      <td>1</td>\n",
              "    </tr>\n",
              "    <tr>\n",
              "      <th>2</th>\n",
              "      <td>1.01</td>\n",
              "      <td>0.04</td>\n",
              "      <td>0.58</td>\n",
              "      <td>0.008</td>\n",
              "      <td>4.24</td>\n",
              "      <td>0.53</td>\n",
              "      <td>0.02</td>\n",
              "      <td>0.05</td>\n",
              "      <td>0.003</td>\n",
              "      <td>0.078</td>\n",
              "      <td>14.16</td>\n",
              "      <td>1.11</td>\n",
              "      <td>0.006</td>\n",
              "      <td>50.28</td>\n",
              "      <td>7.07</td>\n",
              "      <td>0.44</td>\n",
              "      <td>0</td>\n",
              "    </tr>\n",
              "    <tr>\n",
              "      <th>3</th>\n",
              "      <td>1.36</td>\n",
              "      <td>0.04</td>\n",
              "      <td>2.96</td>\n",
              "      <td>0.001</td>\n",
              "      <td>7.23</td>\n",
              "      <td>0.03</td>\n",
              "      <td>1.66</td>\n",
              "      <td>0.71</td>\n",
              "      <td>0.710</td>\n",
              "      <td>0.016</td>\n",
              "      <td>1.41</td>\n",
              "      <td>1.29</td>\n",
              "      <td>0.004</td>\n",
              "      <td>9.12</td>\n",
              "      <td>1.72</td>\n",
              "      <td>0.45</td>\n",
              "      <td>1</td>\n",
              "    </tr>\n",
              "    <tr>\n",
              "      <th>4</th>\n",
              "      <td>0.92</td>\n",
              "      <td>0.03</td>\n",
              "      <td>0.20</td>\n",
              "      <td>0.006</td>\n",
              "      <td>2.67</td>\n",
              "      <td>0.69</td>\n",
              "      <td>0.57</td>\n",
              "      <td>0.13</td>\n",
              "      <td>0.001</td>\n",
              "      <td>0.117</td>\n",
              "      <td>6.74</td>\n",
              "      <td>1.11</td>\n",
              "      <td>0.003</td>\n",
              "      <td>16.90</td>\n",
              "      <td>2.41</td>\n",
              "      <td>0.06</td>\n",
              "      <td>1</td>\n",
              "    </tr>\n",
              "    <tr>\n",
              "      <th>5</th>\n",
              "      <td>0.94</td>\n",
              "      <td>0.03</td>\n",
              "      <td>2.88</td>\n",
              "      <td>0.003</td>\n",
              "      <td>0.80</td>\n",
              "      <td>0.43</td>\n",
              "      <td>1.38</td>\n",
              "      <td>0.67</td>\n",
              "      <td>0.670</td>\n",
              "      <td>0.135</td>\n",
              "      <td>9.75</td>\n",
              "      <td>1.89</td>\n",
              "      <td>0.006</td>\n",
              "      <td>27.17</td>\n",
              "      <td>5.42</td>\n",
              "      <td>0.19</td>\n",
              "      <td>1</td>\n",
              "    </tr>\n",
              "  </tbody>\n",
              "</table>\n",
              "</div>\n",
              "      <button class=\"colab-df-convert\" onclick=\"convertToInteractive('df-4f4e0e5e-906f-4791-ad54-38ecf86602a0')\"\n",
              "              title=\"Convert this dataframe to an interactive table.\"\n",
              "              style=\"display:none;\">\n",
              "        \n",
              "  <svg xmlns=\"http://www.w3.org/2000/svg\" height=\"24px\"viewBox=\"0 0 24 24\"\n",
              "       width=\"24px\">\n",
              "    <path d=\"M0 0h24v24H0V0z\" fill=\"none\"/>\n",
              "    <path d=\"M18.56 5.44l.94 2.06.94-2.06 2.06-.94-2.06-.94-.94-2.06-.94 2.06-2.06.94zm-11 1L8.5 8.5l.94-2.06 2.06-.94-2.06-.94L8.5 2.5l-.94 2.06-2.06.94zm10 10l.94 2.06.94-2.06 2.06-.94-2.06-.94-.94-2.06-.94 2.06-2.06.94z\"/><path d=\"M17.41 7.96l-1.37-1.37c-.4-.4-.92-.59-1.43-.59-.52 0-1.04.2-1.43.59L10.3 9.45l-7.72 7.72c-.78.78-.78 2.05 0 2.83L4 21.41c.39.39.9.59 1.41.59.51 0 1.02-.2 1.41-.59l7.78-7.78 2.81-2.81c.8-.78.8-2.07 0-2.86zM5.41 20L4 18.59l7.72-7.72 1.47 1.35L5.41 20z\"/>\n",
              "  </svg>\n",
              "      </button>\n",
              "      \n",
              "  <style>\n",
              "    .colab-df-container {\n",
              "      display:flex;\n",
              "      flex-wrap:wrap;\n",
              "      gap: 12px;\n",
              "    }\n",
              "\n",
              "    .colab-df-convert {\n",
              "      background-color: #E8F0FE;\n",
              "      border: none;\n",
              "      border-radius: 50%;\n",
              "      cursor: pointer;\n",
              "      display: none;\n",
              "      fill: #1967D2;\n",
              "      height: 32px;\n",
              "      padding: 0 0 0 0;\n",
              "      width: 32px;\n",
              "    }\n",
              "\n",
              "    .colab-df-convert:hover {\n",
              "      background-color: #E2EBFA;\n",
              "      box-shadow: 0px 1px 2px rgba(60, 64, 67, 0.3), 0px 1px 3px 1px rgba(60, 64, 67, 0.15);\n",
              "      fill: #174EA6;\n",
              "    }\n",
              "\n",
              "    [theme=dark] .colab-df-convert {\n",
              "      background-color: #3B4455;\n",
              "      fill: #D2E3FC;\n",
              "    }\n",
              "\n",
              "    [theme=dark] .colab-df-convert:hover {\n",
              "      background-color: #434B5C;\n",
              "      box-shadow: 0px 1px 3px 1px rgba(0, 0, 0, 0.15);\n",
              "      filter: drop-shadow(0px 1px 2px rgba(0, 0, 0, 0.3));\n",
              "      fill: #FFFFFF;\n",
              "    }\n",
              "  </style>\n",
              "\n",
              "      <script>\n",
              "        const buttonEl =\n",
              "          document.querySelector('#df-4f4e0e5e-906f-4791-ad54-38ecf86602a0 button.colab-df-convert');\n",
              "        buttonEl.style.display =\n",
              "          google.colab.kernel.accessAllowed ? 'block' : 'none';\n",
              "\n",
              "        async function convertToInteractive(key) {\n",
              "          const element = document.querySelector('#df-4f4e0e5e-906f-4791-ad54-38ecf86602a0');\n",
              "          const dataTable =\n",
              "            await google.colab.kernel.invokeFunction('convertToInteractive',\n",
              "                                                     [key], {});\n",
              "          if (!dataTable) return;\n",
              "\n",
              "          const docLinkHtml = 'Like what you see? Visit the ' +\n",
              "            '<a target=\"_blank\" href=https://colab.research.google.com/notebooks/data_table.ipynb>data table notebook</a>'\n",
              "            + ' to learn more about interactive tables.';\n",
              "          element.innerHTML = '';\n",
              "          dataTable['output_type'] = 'display_data';\n",
              "          await google.colab.output.renderOutput(dataTable, element);\n",
              "          const docLink = document.createElement('div');\n",
              "          docLink.innerHTML = docLinkHtml;\n",
              "          element.appendChild(docLink);\n",
              "        }\n",
              "      </script>\n",
              "    </div>\n",
              "  </div>\n",
              "  "
            ]
          },
          "metadata": {},
          "execution_count": 168
        }
      ]
    },
    {
      "cell_type": "code",
      "source": [
        "#데이터 셋 준비하기\n",
        "data = pd.read_csv(io.BytesIO(myfile['waterQuality1.csv']))\n",
        "data = data.rename(columns = {'aluminium':'알루미늄','ammonia':'암모니아','arsenic':'비소',\n",
        "                              'barium':'바륨','cadmium':'카드뮴','chloramine':'클로라민',\n",
        "                              'chromium':'크로뮴','copper':'구리','flouride':'불소',\n",
        "                              'bacteria':'박테리아','viruses':'바이러스','lead':'납',\n",
        "                              'nitrates':'질산염','nitrites':'아질산염','mercury':'수은',\n",
        "                              'perchlorate':'과연소산염','radium':'라듐','selenium':'셀레늄',\n",
        "                              'silver':'은','uranium':'우라늄','is_safe':'안전유무'})"
      ],
      "metadata": {
        "id": "zgCkL45t9aMY"
      },
      "execution_count": null,
      "outputs": []
    },
    {
      "cell_type": "code",
      "source": [
        "\n",
        "#아래의 인덱스를 가진 행에서 #NUM!이라는 string문자열이 들어가있음\n",
        "data = data.drop([7551,7568,7890])\n",
        "#string값이 있어 컬럼이 string타입으로 되어있어 float타입으로 변환\n",
        "data = data.astype(float)\n",
        "\n",
        "#안전 데이터 1개 추출\n",
        "test_safe = data.iloc[321,:-1]\n",
        "test_safe.astype(float)\n",
        "test_safe = np.array([test_safe])\n",
        "\n",
        "#비안전 데이터 1개 추출\n",
        "test_unsafe = data.iloc[4312, :-1]\n",
        "test_unsafe.astype(float)\n",
        "test_unsafe = np.array([test_unsafe])\n",
        "\n",
        "#안전, 비안전 데이터를 추출한 행 삭제\n",
        "data = data.drop([321, 4312])\n",
        "\n",
        "#학습데이터\n",
        "x_data = data.iloc[:,:-1].astype(float)\n",
        "y_data = data.iloc[:,20].astype(float)\n",
        "pd.set_option('display.max_columns', 30)\n",
        "data"
      ],
      "metadata": {
        "id": "ALBLkyRwxtyJ",
        "colab": {
          "base_uri": "https://localhost:8080/",
          "height": 423
        },
        "outputId": "974bb9fa-76eb-47b5-cc59-0bc4a85e3206"
      },
      "execution_count": null,
      "outputs": [
        {
          "output_type": "execute_result",
          "data": {
            "text/plain": [
              "      알루미늄   암모니아    비소    바륨    카드뮴  클로라민   크로뮴    구리    불소  박테리아   바이러스  \\\n",
              "0     1.65   9.08  0.04  2.85  0.007  0.35  0.83  0.17  0.05  0.20  0.000   \n",
              "1     2.32  21.16  0.01  3.31  0.002  5.28  0.68  0.66  0.90  0.65  0.650   \n",
              "2     1.01  14.02  0.04  0.58  0.008  4.24  0.53  0.02  0.99  0.05  0.003   \n",
              "3     1.36  11.33  0.04  2.96  0.001  7.23  0.03  1.66  1.08  0.71  0.710   \n",
              "4     0.92  24.33  0.03  0.20  0.006  2.67  0.69  0.57  0.61  0.13  0.001   \n",
              "...    ...    ...   ...   ...    ...   ...   ...   ...   ...   ...    ...   \n",
              "7994  0.05   7.78  0.00  1.95  0.040  0.10  0.03  0.03  1.37  0.00  0.000   \n",
              "7995  0.05  24.22  0.02  0.59  0.010  0.45  0.02  0.02  1.48  0.00  0.000   \n",
              "7996  0.09   6.85  0.00  0.61  0.030  0.05  0.05  0.02  0.91  0.00  0.000   \n",
              "7997  0.01  10.00  0.01  2.00  0.000  2.00  0.00  0.09  0.00  0.00  0.000   \n",
              "7998  0.04   6.85  0.01  0.70  0.030  0.05  0.01  0.03  1.00  0.00  0.000   \n",
              "\n",
              "          납    질산염  아질산염     수은  과연소산염    라듐   셀레늄     은   우라늄  안전유무  \n",
              "0     0.054  16.08  1.13  0.007  37.75  6.78  0.08  0.34  0.02   1.0  \n",
              "1     0.100   2.01  1.93  0.003  32.26  3.21  0.08  0.27  0.05   1.0  \n",
              "2     0.078  14.16  1.11  0.006  50.28  7.07  0.07  0.44  0.01   0.0  \n",
              "3     0.016   1.41  1.29  0.004   9.12  1.72  0.02  0.45  0.05   1.0  \n",
              "4     0.117   6.74  1.11  0.003  16.90  2.41  0.02  0.06  0.02   1.0  \n",
              "...     ...    ...   ...    ...    ...   ...   ...   ...   ...   ...  \n",
              "7994  0.197  14.29  1.00  0.005   3.57  2.13  0.09  0.06  0.03   1.0  \n",
              "7995  0.031  10.27  1.00  0.001   1.48  1.11  0.09  0.10  0.08   1.0  \n",
              "7996  0.182  15.92  1.00  0.000   1.35  4.84  0.00  0.04  0.05   1.0  \n",
              "7997  0.000   0.00  0.00  0.000   0.00  0.00  0.00  0.00  0.00   1.0  \n",
              "7998  0.182  15.92  1.00  0.000   1.35  4.84  0.00  0.04  0.05   1.0  \n",
              "\n",
              "[7994 rows x 21 columns]"
            ],
            "text/html": [
              "\n",
              "  <div id=\"df-4ea8105c-4bc6-4377-adf7-f73dbed18d93\">\n",
              "    <div class=\"colab-df-container\">\n",
              "      <div>\n",
              "<style scoped>\n",
              "    .dataframe tbody tr th:only-of-type {\n",
              "        vertical-align: middle;\n",
              "    }\n",
              "\n",
              "    .dataframe tbody tr th {\n",
              "        vertical-align: top;\n",
              "    }\n",
              "\n",
              "    .dataframe thead th {\n",
              "        text-align: right;\n",
              "    }\n",
              "</style>\n",
              "<table border=\"1\" class=\"dataframe\">\n",
              "  <thead>\n",
              "    <tr style=\"text-align: right;\">\n",
              "      <th></th>\n",
              "      <th>알루미늄</th>\n",
              "      <th>암모니아</th>\n",
              "      <th>비소</th>\n",
              "      <th>바륨</th>\n",
              "      <th>카드뮴</th>\n",
              "      <th>클로라민</th>\n",
              "      <th>크로뮴</th>\n",
              "      <th>구리</th>\n",
              "      <th>불소</th>\n",
              "      <th>박테리아</th>\n",
              "      <th>바이러스</th>\n",
              "      <th>납</th>\n",
              "      <th>질산염</th>\n",
              "      <th>아질산염</th>\n",
              "      <th>수은</th>\n",
              "      <th>과연소산염</th>\n",
              "      <th>라듐</th>\n",
              "      <th>셀레늄</th>\n",
              "      <th>은</th>\n",
              "      <th>우라늄</th>\n",
              "      <th>안전유무</th>\n",
              "    </tr>\n",
              "  </thead>\n",
              "  <tbody>\n",
              "    <tr>\n",
              "      <th>0</th>\n",
              "      <td>1.65</td>\n",
              "      <td>9.08</td>\n",
              "      <td>0.04</td>\n",
              "      <td>2.85</td>\n",
              "      <td>0.007</td>\n",
              "      <td>0.35</td>\n",
              "      <td>0.83</td>\n",
              "      <td>0.17</td>\n",
              "      <td>0.05</td>\n",
              "      <td>0.20</td>\n",
              "      <td>0.000</td>\n",
              "      <td>0.054</td>\n",
              "      <td>16.08</td>\n",
              "      <td>1.13</td>\n",
              "      <td>0.007</td>\n",
              "      <td>37.75</td>\n",
              "      <td>6.78</td>\n",
              "      <td>0.08</td>\n",
              "      <td>0.34</td>\n",
              "      <td>0.02</td>\n",
              "      <td>1.0</td>\n",
              "    </tr>\n",
              "    <tr>\n",
              "      <th>1</th>\n",
              "      <td>2.32</td>\n",
              "      <td>21.16</td>\n",
              "      <td>0.01</td>\n",
              "      <td>3.31</td>\n",
              "      <td>0.002</td>\n",
              "      <td>5.28</td>\n",
              "      <td>0.68</td>\n",
              "      <td>0.66</td>\n",
              "      <td>0.90</td>\n",
              "      <td>0.65</td>\n",
              "      <td>0.650</td>\n",
              "      <td>0.100</td>\n",
              "      <td>2.01</td>\n",
              "      <td>1.93</td>\n",
              "      <td>0.003</td>\n",
              "      <td>32.26</td>\n",
              "      <td>3.21</td>\n",
              "      <td>0.08</td>\n",
              "      <td>0.27</td>\n",
              "      <td>0.05</td>\n",
              "      <td>1.0</td>\n",
              "    </tr>\n",
              "    <tr>\n",
              "      <th>2</th>\n",
              "      <td>1.01</td>\n",
              "      <td>14.02</td>\n",
              "      <td>0.04</td>\n",
              "      <td>0.58</td>\n",
              "      <td>0.008</td>\n",
              "      <td>4.24</td>\n",
              "      <td>0.53</td>\n",
              "      <td>0.02</td>\n",
              "      <td>0.99</td>\n",
              "      <td>0.05</td>\n",
              "      <td>0.003</td>\n",
              "      <td>0.078</td>\n",
              "      <td>14.16</td>\n",
              "      <td>1.11</td>\n",
              "      <td>0.006</td>\n",
              "      <td>50.28</td>\n",
              "      <td>7.07</td>\n",
              "      <td>0.07</td>\n",
              "      <td>0.44</td>\n",
              "      <td>0.01</td>\n",
              "      <td>0.0</td>\n",
              "    </tr>\n",
              "    <tr>\n",
              "      <th>3</th>\n",
              "      <td>1.36</td>\n",
              "      <td>11.33</td>\n",
              "      <td>0.04</td>\n",
              "      <td>2.96</td>\n",
              "      <td>0.001</td>\n",
              "      <td>7.23</td>\n",
              "      <td>0.03</td>\n",
              "      <td>1.66</td>\n",
              "      <td>1.08</td>\n",
              "      <td>0.71</td>\n",
              "      <td>0.710</td>\n",
              "      <td>0.016</td>\n",
              "      <td>1.41</td>\n",
              "      <td>1.29</td>\n",
              "      <td>0.004</td>\n",
              "      <td>9.12</td>\n",
              "      <td>1.72</td>\n",
              "      <td>0.02</td>\n",
              "      <td>0.45</td>\n",
              "      <td>0.05</td>\n",
              "      <td>1.0</td>\n",
              "    </tr>\n",
              "    <tr>\n",
              "      <th>4</th>\n",
              "      <td>0.92</td>\n",
              "      <td>24.33</td>\n",
              "      <td>0.03</td>\n",
              "      <td>0.20</td>\n",
              "      <td>0.006</td>\n",
              "      <td>2.67</td>\n",
              "      <td>0.69</td>\n",
              "      <td>0.57</td>\n",
              "      <td>0.61</td>\n",
              "      <td>0.13</td>\n",
              "      <td>0.001</td>\n",
              "      <td>0.117</td>\n",
              "      <td>6.74</td>\n",
              "      <td>1.11</td>\n",
              "      <td>0.003</td>\n",
              "      <td>16.90</td>\n",
              "      <td>2.41</td>\n",
              "      <td>0.02</td>\n",
              "      <td>0.06</td>\n",
              "      <td>0.02</td>\n",
              "      <td>1.0</td>\n",
              "    </tr>\n",
              "    <tr>\n",
              "      <th>...</th>\n",
              "      <td>...</td>\n",
              "      <td>...</td>\n",
              "      <td>...</td>\n",
              "      <td>...</td>\n",
              "      <td>...</td>\n",
              "      <td>...</td>\n",
              "      <td>...</td>\n",
              "      <td>...</td>\n",
              "      <td>...</td>\n",
              "      <td>...</td>\n",
              "      <td>...</td>\n",
              "      <td>...</td>\n",
              "      <td>...</td>\n",
              "      <td>...</td>\n",
              "      <td>...</td>\n",
              "      <td>...</td>\n",
              "      <td>...</td>\n",
              "      <td>...</td>\n",
              "      <td>...</td>\n",
              "      <td>...</td>\n",
              "      <td>...</td>\n",
              "    </tr>\n",
              "    <tr>\n",
              "      <th>7994</th>\n",
              "      <td>0.05</td>\n",
              "      <td>7.78</td>\n",
              "      <td>0.00</td>\n",
              "      <td>1.95</td>\n",
              "      <td>0.040</td>\n",
              "      <td>0.10</td>\n",
              "      <td>0.03</td>\n",
              "      <td>0.03</td>\n",
              "      <td>1.37</td>\n",
              "      <td>0.00</td>\n",
              "      <td>0.000</td>\n",
              "      <td>0.197</td>\n",
              "      <td>14.29</td>\n",
              "      <td>1.00</td>\n",
              "      <td>0.005</td>\n",
              "      <td>3.57</td>\n",
              "      <td>2.13</td>\n",
              "      <td>0.09</td>\n",
              "      <td>0.06</td>\n",
              "      <td>0.03</td>\n",
              "      <td>1.0</td>\n",
              "    </tr>\n",
              "    <tr>\n",
              "      <th>7995</th>\n",
              "      <td>0.05</td>\n",
              "      <td>24.22</td>\n",
              "      <td>0.02</td>\n",
              "      <td>0.59</td>\n",
              "      <td>0.010</td>\n",
              "      <td>0.45</td>\n",
              "      <td>0.02</td>\n",
              "      <td>0.02</td>\n",
              "      <td>1.48</td>\n",
              "      <td>0.00</td>\n",
              "      <td>0.000</td>\n",
              "      <td>0.031</td>\n",
              "      <td>10.27</td>\n",
              "      <td>1.00</td>\n",
              "      <td>0.001</td>\n",
              "      <td>1.48</td>\n",
              "      <td>1.11</td>\n",
              "      <td>0.09</td>\n",
              "      <td>0.10</td>\n",
              "      <td>0.08</td>\n",
              "      <td>1.0</td>\n",
              "    </tr>\n",
              "    <tr>\n",
              "      <th>7996</th>\n",
              "      <td>0.09</td>\n",
              "      <td>6.85</td>\n",
              "      <td>0.00</td>\n",
              "      <td>0.61</td>\n",
              "      <td>0.030</td>\n",
              "      <td>0.05</td>\n",
              "      <td>0.05</td>\n",
              "      <td>0.02</td>\n",
              "      <td>0.91</td>\n",
              "      <td>0.00</td>\n",
              "      <td>0.000</td>\n",
              "      <td>0.182</td>\n",
              "      <td>15.92</td>\n",
              "      <td>1.00</td>\n",
              "      <td>0.000</td>\n",
              "      <td>1.35</td>\n",
              "      <td>4.84</td>\n",
              "      <td>0.00</td>\n",
              "      <td>0.04</td>\n",
              "      <td>0.05</td>\n",
              "      <td>1.0</td>\n",
              "    </tr>\n",
              "    <tr>\n",
              "      <th>7997</th>\n",
              "      <td>0.01</td>\n",
              "      <td>10.00</td>\n",
              "      <td>0.01</td>\n",
              "      <td>2.00</td>\n",
              "      <td>0.000</td>\n",
              "      <td>2.00</td>\n",
              "      <td>0.00</td>\n",
              "      <td>0.09</td>\n",
              "      <td>0.00</td>\n",
              "      <td>0.00</td>\n",
              "      <td>0.000</td>\n",
              "      <td>0.000</td>\n",
              "      <td>0.00</td>\n",
              "      <td>0.00</td>\n",
              "      <td>0.000</td>\n",
              "      <td>0.00</td>\n",
              "      <td>0.00</td>\n",
              "      <td>0.00</td>\n",
              "      <td>0.00</td>\n",
              "      <td>0.00</td>\n",
              "      <td>1.0</td>\n",
              "    </tr>\n",
              "    <tr>\n",
              "      <th>7998</th>\n",
              "      <td>0.04</td>\n",
              "      <td>6.85</td>\n",
              "      <td>0.01</td>\n",
              "      <td>0.70</td>\n",
              "      <td>0.030</td>\n",
              "      <td>0.05</td>\n",
              "      <td>0.01</td>\n",
              "      <td>0.03</td>\n",
              "      <td>1.00</td>\n",
              "      <td>0.00</td>\n",
              "      <td>0.000</td>\n",
              "      <td>0.182</td>\n",
              "      <td>15.92</td>\n",
              "      <td>1.00</td>\n",
              "      <td>0.000</td>\n",
              "      <td>1.35</td>\n",
              "      <td>4.84</td>\n",
              "      <td>0.00</td>\n",
              "      <td>0.04</td>\n",
              "      <td>0.05</td>\n",
              "      <td>1.0</td>\n",
              "    </tr>\n",
              "  </tbody>\n",
              "</table>\n",
              "<p>7994 rows × 21 columns</p>\n",
              "</div>\n",
              "      <button class=\"colab-df-convert\" onclick=\"convertToInteractive('df-4ea8105c-4bc6-4377-adf7-f73dbed18d93')\"\n",
              "              title=\"Convert this dataframe to an interactive table.\"\n",
              "              style=\"display:none;\">\n",
              "        \n",
              "  <svg xmlns=\"http://www.w3.org/2000/svg\" height=\"24px\"viewBox=\"0 0 24 24\"\n",
              "       width=\"24px\">\n",
              "    <path d=\"M0 0h24v24H0V0z\" fill=\"none\"/>\n",
              "    <path d=\"M18.56 5.44l.94 2.06.94-2.06 2.06-.94-2.06-.94-.94-2.06-.94 2.06-2.06.94zm-11 1L8.5 8.5l.94-2.06 2.06-.94-2.06-.94L8.5 2.5l-.94 2.06-2.06.94zm10 10l.94 2.06.94-2.06 2.06-.94-2.06-.94-.94-2.06-.94 2.06-2.06.94z\"/><path d=\"M17.41 7.96l-1.37-1.37c-.4-.4-.92-.59-1.43-.59-.52 0-1.04.2-1.43.59L10.3 9.45l-7.72 7.72c-.78.78-.78 2.05 0 2.83L4 21.41c.39.39.9.59 1.41.59.51 0 1.02-.2 1.41-.59l7.78-7.78 2.81-2.81c.8-.78.8-2.07 0-2.86zM5.41 20L4 18.59l7.72-7.72 1.47 1.35L5.41 20z\"/>\n",
              "  </svg>\n",
              "      </button>\n",
              "      \n",
              "  <style>\n",
              "    .colab-df-container {\n",
              "      display:flex;\n",
              "      flex-wrap:wrap;\n",
              "      gap: 12px;\n",
              "    }\n",
              "\n",
              "    .colab-df-convert {\n",
              "      background-color: #E8F0FE;\n",
              "      border: none;\n",
              "      border-radius: 50%;\n",
              "      cursor: pointer;\n",
              "      display: none;\n",
              "      fill: #1967D2;\n",
              "      height: 32px;\n",
              "      padding: 0 0 0 0;\n",
              "      width: 32px;\n",
              "    }\n",
              "\n",
              "    .colab-df-convert:hover {\n",
              "      background-color: #E2EBFA;\n",
              "      box-shadow: 0px 1px 2px rgba(60, 64, 67, 0.3), 0px 1px 3px 1px rgba(60, 64, 67, 0.15);\n",
              "      fill: #174EA6;\n",
              "    }\n",
              "\n",
              "    [theme=dark] .colab-df-convert {\n",
              "      background-color: #3B4455;\n",
              "      fill: #D2E3FC;\n",
              "    }\n",
              "\n",
              "    [theme=dark] .colab-df-convert:hover {\n",
              "      background-color: #434B5C;\n",
              "      box-shadow: 0px 1px 3px 1px rgba(0, 0, 0, 0.15);\n",
              "      filter: drop-shadow(0px 1px 2px rgba(0, 0, 0, 0.3));\n",
              "      fill: #FFFFFF;\n",
              "    }\n",
              "  </style>\n",
              "\n",
              "      <script>\n",
              "        const buttonEl =\n",
              "          document.querySelector('#df-4ea8105c-4bc6-4377-adf7-f73dbed18d93 button.colab-df-convert');\n",
              "        buttonEl.style.display =\n",
              "          google.colab.kernel.accessAllowed ? 'block' : 'none';\n",
              "\n",
              "        async function convertToInteractive(key) {\n",
              "          const element = document.querySelector('#df-4ea8105c-4bc6-4377-adf7-f73dbed18d93');\n",
              "          const dataTable =\n",
              "            await google.colab.kernel.invokeFunction('convertToInteractive',\n",
              "                                                     [key], {});\n",
              "          if (!dataTable) return;\n",
              "\n",
              "          const docLinkHtml = 'Like what you see? Visit the ' +\n",
              "            '<a target=\"_blank\" href=https://colab.research.google.com/notebooks/data_table.ipynb>data table notebook</a>'\n",
              "            + ' to learn more about interactive tables.';\n",
              "          element.innerHTML = '';\n",
              "          dataTable['output_type'] = 'display_data';\n",
              "          await google.colab.output.renderOutput(dataTable, element);\n",
              "          const docLink = document.createElement('div');\n",
              "          docLink.innerHTML = docLinkHtml;\n",
              "          element.appendChild(docLink);\n",
              "        }\n",
              "      </script>\n",
              "    </div>\n",
              "  </div>\n",
              "  "
            ]
          },
          "metadata": {},
          "execution_count": 106
        }
      ]
    },
    {
      "cell_type": "markdown",
      "source": [
        "# 새 섹션 mlp"
      ],
      "metadata": {
        "id": "ijVicXawxtDb"
      }
    },
    {
      "cell_type": "code",
      "source": [
        "print(x_data)\n",
        "print(y_data)"
      ],
      "metadata": {
        "colab": {
          "base_uri": "https://localhost:8080/"
        },
        "id": "c6Tyr4xGmTgu",
        "outputId": "b724cdf0-847b-4dde-aef0-8f0b8f89249c"
      },
      "execution_count": null,
      "outputs": [
        {
          "output_type": "stream",
          "name": "stdout",
          "text": [
            "      알루미늄   암모니아    비소    바륨    카드뮴  클로라민   크로뮴    구리    불소  박테리아   바이러스  \\\n",
            "0     1.65   9.08  0.04  2.85  0.007  0.35  0.83  0.17  0.05  0.20  0.000   \n",
            "1     2.32  21.16  0.01  3.31  0.002  5.28  0.68  0.66  0.90  0.65  0.650   \n",
            "2     1.01  14.02  0.04  0.58  0.008  4.24  0.53  0.02  0.99  0.05  0.003   \n",
            "3     1.36  11.33  0.04  2.96  0.001  7.23  0.03  1.66  1.08  0.71  0.710   \n",
            "4     0.92  24.33  0.03  0.20  0.006  2.67  0.69  0.57  0.61  0.13  0.001   \n",
            "...    ...    ...   ...   ...    ...   ...   ...   ...   ...   ...    ...   \n",
            "7994  0.05   7.78  0.00  1.95  0.040  0.10  0.03  0.03  1.37  0.00  0.000   \n",
            "7995  0.05  24.22  0.02  0.59  0.010  0.45  0.02  0.02  1.48  0.00  0.000   \n",
            "7996  0.09   6.85  0.00  0.61  0.030  0.05  0.05  0.02  0.91  0.00  0.000   \n",
            "7997  0.01  10.00  0.01  2.00  0.000  2.00  0.00  0.09  0.00  0.00  0.000   \n",
            "7998  0.04   6.85  0.01  0.70  0.030  0.05  0.01  0.03  1.00  0.00  0.000   \n",
            "\n",
            "          납    질산염  아질산염     수은  과연소산염    라듐   셀레늄     은   우라늄  \n",
            "0     0.054  16.08  1.13  0.007  37.75  6.78  0.08  0.34  0.02  \n",
            "1     0.100   2.01  1.93  0.003  32.26  3.21  0.08  0.27  0.05  \n",
            "2     0.078  14.16  1.11  0.006  50.28  7.07  0.07  0.44  0.01  \n",
            "3     0.016   1.41  1.29  0.004   9.12  1.72  0.02  0.45  0.05  \n",
            "4     0.117   6.74  1.11  0.003  16.90  2.41  0.02  0.06  0.02  \n",
            "...     ...    ...   ...    ...    ...   ...   ...   ...   ...  \n",
            "7994  0.197  14.29  1.00  0.005   3.57  2.13  0.09  0.06  0.03  \n",
            "7995  0.031  10.27  1.00  0.001   1.48  1.11  0.09  0.10  0.08  \n",
            "7996  0.182  15.92  1.00  0.000   1.35  4.84  0.00  0.04  0.05  \n",
            "7997  0.000   0.00  0.00  0.000   0.00  0.00  0.00  0.00  0.00  \n",
            "7998  0.182  15.92  1.00  0.000   1.35  4.84  0.00  0.04  0.05  \n",
            "\n",
            "[7994 rows x 20 columns]\n",
            "0       1.0\n",
            "1       1.0\n",
            "2       0.0\n",
            "3       1.0\n",
            "4       1.0\n",
            "       ... \n",
            "7994    1.0\n",
            "7995    1.0\n",
            "7996    1.0\n",
            "7997    1.0\n",
            "7998    1.0\n",
            "Name: 안전유무, Length: 7994, dtype: float64\n"
          ]
        }
      ]
    },
    {
      "cell_type": "code",
      "source": [
        "\n",
        "#모델 구성하기\n",
        "tf.model = tf.keras.Sequential()\n",
        "tf.model.add(tf.keras.layers.Dense(units = 10, input_dim = x_data.shape[1], activation = 'relu'))\n",
        "tf.model.add(tf.keras.layers.Dense(units = 10, activation = 'relu'))\n",
        "tf.model.add(tf.keras.layers.Dense(units = 1, activation = 'sigmoid'))\n",
        "#모델 학습과정 설정하기\n",
        "tf.model.compile(loss = 'binary_crossentropy', optimizer = tf.keras.optimizers.Adam(lr = 0.01), metrics = ['accuracy'])\n",
        "tf.model.summary()"
      ],
      "metadata": {
        "colab": {
          "base_uri": "https://localhost:8080/"
        },
        "id": "YweUJ2zVmTjn",
        "outputId": "8d19b137-8b17-4705-a4c2-2e518914cf5c"
      },
      "execution_count": null,
      "outputs": [
        {
          "output_type": "stream",
          "name": "stdout",
          "text": [
            "Model: \"sequential_1\"\n",
            "_________________________________________________________________\n",
            " Layer (type)                Output Shape              Param #   \n",
            "=================================================================\n",
            " dense_4 (Dense)             (None, 10)                210       \n",
            "                                                                 \n",
            " dense_5 (Dense)             (None, 10)                110       \n",
            "                                                                 \n",
            " dense_6 (Dense)             (None, 1)                 11        \n",
            "                                                                 \n",
            "=================================================================\n",
            "Total params: 331\n",
            "Trainable params: 331\n",
            "Non-trainable params: 0\n",
            "_________________________________________________________________\n"
          ]
        },
        {
          "output_type": "stream",
          "name": "stderr",
          "text": [
            "/usr/local/lib/python3.7/dist-packages/keras/optimizer_v2/adam.py:105: UserWarning: The `lr` argument is deprecated, use `learning_rate` instead.\n",
            "  super(Adam, self).__init__(name, **kwargs)\n"
          ]
        }
      ]
    },
    {
      "cell_type": "code",
      "source": [
        "#모델 학습시키기\n",
        "history = tf.model.fit(x_data, y_data, epochs = 10, batch_size=64)\n",
        "print(\"Accuracy : \", history.history['accuracy'][-1])"
      ],
      "metadata": {
        "colab": {
          "base_uri": "https://localhost:8080/"
        },
        "id": "VVzU3A7JmTmF",
        "outputId": "2aea8142-f430-4b82-efdc-a0c8c9655f5b"
      },
      "execution_count": null,
      "outputs": [
        {
          "output_type": "stream",
          "name": "stdout",
          "text": [
            "Epoch 1/10\n",
            "125/125 [==============================] - 1s 3ms/step - loss: 0.3245 - accuracy: 0.8844\n",
            "Epoch 2/10\n",
            "125/125 [==============================] - 0s 2ms/step - loss: 0.2682 - accuracy: 0.8885\n",
            "Epoch 3/10\n",
            "125/125 [==============================] - 0s 3ms/step - loss: 0.2472 - accuracy: 0.9017\n",
            "Epoch 4/10\n",
            "125/125 [==============================] - 0s 3ms/step - loss: 0.2315 - accuracy: 0.9107\n",
            "Epoch 5/10\n",
            "125/125 [==============================] - 0s 3ms/step - loss: 0.2199 - accuracy: 0.9132\n",
            "Epoch 6/10\n",
            "125/125 [==============================] - 0s 3ms/step - loss: 0.2081 - accuracy: 0.9219\n",
            "Epoch 7/10\n",
            "125/125 [==============================] - 0s 2ms/step - loss: 0.2057 - accuracy: 0.9199\n",
            "Epoch 8/10\n",
            "125/125 [==============================] - 0s 2ms/step - loss: 0.2045 - accuracy: 0.9226\n",
            "Epoch 9/10\n",
            "125/125 [==============================] - 0s 2ms/step - loss: 0.1881 - accuracy: 0.9329\n",
            "Epoch 10/10\n",
            "125/125 [==============================] - 0s 2ms/step - loss: 0.1846 - accuracy: 0.9309\n",
            "Accuracy :  0.9309481978416443\n"
          ]
        }
      ]
    },
    {
      "cell_type": "code",
      "source": [
        "evaluate = tf.model.evaluate(x_data, y_data)\n",
        "print(\"loss: {0}, accuracy: {1}\".format(evaluate[0], evaluate[1]*100))"
      ],
      "metadata": {
        "colab": {
          "base_uri": "https://localhost:8080/"
        },
        "id": "66bHxVSHmToa",
        "outputId": "5fd0fde8-d9fc-4110-9287-01a8584dc976"
      },
      "execution_count": null,
      "outputs": [
        {
          "output_type": "stream",
          "name": "stdout",
          "text": [
            "250/250 [==============================] - 1s 2ms/step - loss: 0.1562 - accuracy: 0.9458\n",
            "loss: 0.15616151690483093, accuracy: 94.58343982696533\n"
          ]
        }
      ]
    },
    {
      "cell_type": "markdown",
      "source": [
        "# 새 섹션"
      ],
      "metadata": {
        "id": "l7Q0NqG-966I"
      }
    },
    {
      "cell_type": "markdown",
      "source": [
        "deep\n",
        "\n",
        "> 들여쓴 블록\n",
        "\n",
        "# > 들여쓴 블록\n",
        "\n",
        "---\n",
        "\n",
        "\n",
        "\n",
        "\n",
        "\n"
      ],
      "metadata": {
        "id": "IDUHs8eFzWWv"
      }
    },
    {
      "cell_type": "code",
      "source": [
        "#모델 구성하기\n",
        "\n",
        "\n",
        "tf.model = tf.keras.Sequential()\n",
        "tf.model.add(tf.keras.layers.Dense(units = 10, input_dim = x_data.shape[1], activation = 'relu')) #입력\n",
        "tf.model.add(tf.keras.layers.Dense(units = 10, activation = 'relu')) #은닉\n",
        "tf.model.add(tf.keras.layers.Dense(units = 5, activation = 'relu')) #은닉\n",
        "tf.model.add(tf.keras.layers.Dense(units = 5, activation = 'relu')) # 은닉\n",
        "tf.model.add(tf.keras.layers.Dense(units = 1, activation = 'sigmoid')) # 출력층\n",
        "#모델 학습과정 설정하기\n",
        "tf.model.compile(loss = 'mse', optimizer = tf.keras.optimizers.Adam(lr = 0.01), metrics = ['accuracy'])\n",
        "history = tf.model.fit(x_data, y_data, epochs = 10,batch_size=64)\n",
        "print(\"Accuracy : \", history.history['accuracy'][-1])\n",
        "tf.model.summary()"
      ],
      "metadata": {
        "id": "TUAuLtZszYir",
        "colab": {
          "base_uri": "https://localhost:8080/"
        },
        "outputId": "2932db34-2f64-4bdf-a52b-351d75c219c5"
      },
      "execution_count": 125,
      "outputs": [
        {
          "output_type": "stream",
          "name": "stdout",
          "text": [
            "Epoch 1/10\n"
          ]
        },
        {
          "output_type": "stream",
          "name": "stderr",
          "text": [
            "/usr/local/lib/python3.7/dist-packages/keras/optimizer_v2/adam.py:105: UserWarning: The `lr` argument is deprecated, use `learning_rate` instead.\n",
            "  super(Adam, self).__init__(name, **kwargs)\n"
          ]
        },
        {
          "output_type": "stream",
          "name": "stdout",
          "text": [
            "125/125 [==============================] - 1s 2ms/step - loss: 0.1332 - accuracy: 0.8672\n",
            "Epoch 2/10\n",
            "125/125 [==============================] - 0s 2ms/step - loss: 0.1010 - accuracy: 0.8860\n",
            "Epoch 3/10\n",
            "125/125 [==============================] - 0s 3ms/step - loss: 0.1010 - accuracy: 0.8860\n",
            "Epoch 4/10\n",
            "125/125 [==============================] - 0s 3ms/step - loss: 0.1010 - accuracy: 0.8860\n",
            "Epoch 5/10\n",
            "125/125 [==============================] - 0s 2ms/step - loss: 0.1011 - accuracy: 0.8860\n",
            "Epoch 6/10\n",
            "125/125 [==============================] - 0s 3ms/step - loss: 0.1010 - accuracy: 0.8860\n",
            "Epoch 7/10\n",
            "125/125 [==============================] - 0s 2ms/step - loss: 0.1010 - accuracy: 0.8860\n",
            "Epoch 8/10\n",
            "125/125 [==============================] - 0s 2ms/step - loss: 0.1011 - accuracy: 0.8860\n",
            "Epoch 9/10\n",
            "125/125 [==============================] - 0s 2ms/step - loss: 0.1010 - accuracy: 0.8860\n",
            "Epoch 10/10\n",
            "125/125 [==============================] - 0s 2ms/step - loss: 0.1010 - accuracy: 0.8860\n",
            "Accuracy :  0.8860395550727844\n",
            "Model: \"sequential_12\"\n",
            "_________________________________________________________________\n",
            " Layer (type)                Output Shape              Param #   \n",
            "=================================================================\n",
            " dense_57 (Dense)            (None, 10)                210       \n",
            "                                                                 \n",
            " dense_58 (Dense)            (None, 10)                110       \n",
            "                                                                 \n",
            " dense_59 (Dense)            (None, 5)                 55        \n",
            "                                                                 \n",
            " dense_60 (Dense)            (None, 5)                 30        \n",
            "                                                                 \n",
            " dense_61 (Dense)            (None, 1)                 6         \n",
            "                                                                 \n",
            "=================================================================\n",
            "Total params: 411\n",
            "Trainable params: 411\n",
            "Non-trainable params: 0\n",
            "_________________________________________________________________\n"
          ]
        }
      ]
    },
    {
      "cell_type": "code",
      "source": [
        "evaluate = tf.model.evaluate(x_data, y_data, verbose = 0)\n",
        "print(\"loss: {0}, accuracy: {1}\".format(evaluate[0], evaluate[1]*100))\n"
      ],
      "metadata": {
        "colab": {
          "base_uri": "https://localhost:8080/"
        },
        "id": "J4x8YfVB3FE8",
        "outputId": "2aa44d36-2050-4918-ea22-396536dae56d"
      },
      "execution_count": 126,
      "outputs": [
        {
          "output_type": "stream",
          "name": "stdout",
          "text": [
            "loss: 0.10097383707761765, accuracy: 88.60395550727844\n"
          ]
        }
      ]
    },
    {
      "cell_type": "markdown",
      "source": [
        "# 새 섹션 svm"
      ],
      "metadata": {
        "id": "Q4PhX5vVBax3"
      }
    },
    {
      "cell_type": "code",
      "source": [
        "columns = dict(zip(list(range(data.shape[1])), data.columns.values.tolist()))\n",
        "is_safe = data['is_safe']\n",
        "\n",
        "data = pd.DataFrame(StandardScaler().fit_transform(data)).rename(columns = columns)\n",
        "data['is_safe'] = is_safe\n",
        "data = data.dropna()"
      ],
      "metadata": {
        "id": "5bvmTb58CPGR"
      },
      "execution_count": 177,
      "outputs": []
    },
    {
      "cell_type": "code",
      "source": [
        "X = data.drop('is_safe', axis = 1)\n",
        "Y = data['is_safe']\n",
        "\n",
        "X_train, X_test, Y_train, Y_test = train_test_split(X, Y, test_size = 0.33, random_state = 10)"
      ],
      "metadata": {
        "id": "XVoU0FNQ6Kzu"
      },
      "execution_count": 203,
      "outputs": []
    },
    {
      "cell_type": "code",
      "source": [
        "parameters = {'C':[1, 10], 'gamma':('scale', 'auto')}\n",
        "\n",
        "clf = GridSearchCV(SVC(), parameters)\n",
        "clf.fit(X_train, Y_train)\n",
        "predict = clf.predict(X_test)\n",
        "clf.best_params_"
      ],
      "metadata": {
        "id": "24SE5oL96Kxb",
        "colab": {
          "base_uri": "https://localhost:8080/"
        },
        "outputId": "b5e236aa-754e-4a99-d072-e5eb24f2d225"
      },
      "execution_count": 204,
      "outputs": [
        {
          "output_type": "execute_result",
          "data": {
            "text/plain": [
              "{'C': 1, 'gamma': 'scale'}"
            ]
          },
          "metadata": {},
          "execution_count": 204
        }
      ]
    },
    {
      "cell_type": "code",
      "source": [
        "print(classification_report(Y_test, predict))"
      ],
      "metadata": {
        "id": "M-afUEL96Ku8",
        "colab": {
          "base_uri": "https://localhost:8080/"
        },
        "outputId": "a748146c-08e8-46e6-cac7-d71890d9c3f1"
      },
      "execution_count": 205,
      "outputs": [
        {
          "output_type": "stream",
          "name": "stdout",
          "text": [
            "              precision    recall  f1-score   support\n",
            "\n",
            "         0.0       0.94      0.99      0.96      2330\n",
            "         1.0       0.87      0.49      0.62       308\n",
            "\n",
            "    accuracy                           0.93      2638\n",
            "   macro avg       0.90      0.74      0.79      2638\n",
            "weighted avg       0.93      0.93      0.92      2638\n",
            "\n"
          ]
        }
      ]
    },
    {
      "cell_type": "code",
      "source": [
        "print(confusion_matrix(Y_test, predict))"
      ],
      "metadata": {
        "id": "LOiQ4RsZ6KsZ",
        "colab": {
          "base_uri": "https://localhost:8080/"
        },
        "outputId": "348a4bbb-516a-43e4-8597-d1ed1a169805"
      },
      "execution_count": 181,
      "outputs": [
        {
          "output_type": "stream",
          "name": "stdout",
          "text": [
            "[[2309   29]\n",
            " [ 215   86]]\n"
          ]
        }
      ]
    }
  ]
}